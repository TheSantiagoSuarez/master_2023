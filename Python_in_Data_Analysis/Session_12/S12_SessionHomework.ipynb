{
 "cells": [
  {
   "attachments": {},
   "cell_type": "markdown",
   "id": "864e3c9e",
   "metadata": {},
   "source": [
    "<table border=\"0\" style=\"width:100%\">\n",
    " <tr>\n",
    "    <td>\n",
    "        <img src=\"https://static-frm.ie.edu/university/wp-content/uploads/sites/6/2022/06/IE-University-logo.png\" width=150>\n",
    "     </td>\n",
    "    <td><div style=\"font-family:'Courier New'\">\n",
    "            <div style=\"font-size:25px\">\n",
    "                <div style=\"text-align: right\"> \n",
    "                    <b> MASTER IN BIG DATA</b>\n",
    "                    <br>\n",
    "                    Python for Data Analysis II\n",
    "                    <br><br>\n",
    "                    <em> Daniel Sierra Ramos </em>\n",
    "                </div>\n",
    "            </div>\n",
    "        </div>\n",
    "    </td>\n",
    " </tr>\n",
    "</table>"
   ]
  },
  {
   "attachments": {},
   "cell_type": "markdown",
   "id": "e9baf951",
   "metadata": {},
   "source": [
    "# **S12: EXERCISES**"
   ]
  },
  {
   "cell_type": "markdown",
   "id": "c812b6c8-9089-4252-b00f-ecf1e2e7d392",
   "metadata": {},
   "source": [
    "# Exercise 01\n",
    "\n",
    "Recover your `covtypes` exercise and include some dimensionality reduction techniques to improve your model (performance or readability)."
   ]
  }
 ],
 "metadata": {
  "kernelspec": {
   "display_name": "DATASCIENCE (Python 3.8)",
   "language": "python",
   "name": "datascience"
  }
 },
 "nbformat": 4,
 "nbformat_minor": 5
}

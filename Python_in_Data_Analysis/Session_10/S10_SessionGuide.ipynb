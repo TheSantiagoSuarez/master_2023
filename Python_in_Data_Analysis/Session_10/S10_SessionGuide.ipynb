{
 "cells": [
  {
   "cell_type": "markdown",
   "id": "864e3c9e",
   "metadata": {},
   "source": [
    "<table border=\"0\" style=\"width:100%\">\n",
    " <tr>\n",
    "    <td>\n",
    "        <img src=\"https://static-frm.ie.edu/university/wp-content/uploads/sites/6/2022/06/IE-University-logo.png\" width=150>\n",
    "     </td>\n",
    "    <td><div style=\"font-family:'Courier New'\">\n",
    "            <div style=\"font-size:25px\">\n",
    "                <div style=\"text-align: right\"> \n",
    "                    <b> MASTER IN BIG DATA</b>\n",
    "                    <br>\n",
    "                    Python for Data Analysis II\n",
    "                    <br><br>\n",
    "                    <em> Daniel Sierra Ramos </em>\n",
    "                </div>\n",
    "            </div>\n",
    "        </div>\n",
    "    </td>\n",
    " </tr>\n",
    "</table>"
   ]
  },
  {
   "cell_type": "markdown",
   "id": "1e1d512b",
   "metadata": {},
   "source": [
    "# **S10: MODEL SELECTION - HYPERPARAMETER TUNING**"
   ]
  },
  {
   "cell_type": "markdown",
   "id": "2c371af1-1270-4737-be98-973baa4744ae",
   "metadata": {},
   "source": [
    " - Model selection is the process to **select the best possible model** that fits our data and generalize well on unseen data.\n",
    " - As we already know, model have internal parameters that are optimized during the training process. We **cannot set direcly those parameter values** because they are learned through the optimization process (well, we can influece on their values through regularization).\n",
    " - But also, models usually can be controlled by the **hyperparameters**, that is, external arguments that influences the training process. One typical hyperparameter is the *regularization strengh* in Logistic Regression and SVMs, or the depth in Decision Trees.\n",
    " - **Each hyperparameter is creating a diferent model** (with different parameters), but we cannot know which hyperparameter configuration is the best for our problem.\n",
    " - For this purpose, we have model selection techniques to test several configurations in order to keep the best. The most known are:\n",
    "    - **Grid Search** - Creates a grid of hyperparamenters and builds a model for each combination. It's usually used in combination with K-Fold CV. It's slow because it tries all parameter combinations by brute force.\n",
    "    - **Random Search** - Randomly selects N combinations from the hyperparameter grid. It's based on the idea that most of combinations of hyperparamenters will not improve the model, so there is no need to test all of them."
   ]
  },
  {
   "cell_type": "markdown",
   "id": "72375af0-d5e7-4398-b674-213133bfc7d9",
   "metadata": {},
   "source": [
    "## Model Selection with `sklearn`"
   ]
  },
  {
   "cell_type": "code",
   "execution_count": 2,
   "id": "e7fd86f7-34d1-4330-85ff-151e25ccbeb1",
   "metadata": {},
   "outputs": [],
   "source": [
    "import numpy as np\n",
    "import pandas as pd\n",
    "import matplotlib.pyplot as plt\n",
    "import plotly.express as px\n",
    "import plotly.graph_objects as go\n",
    "import plotly.io as pio\n",
    "pio.templates.default = \"none\""
   ]
  },
  {
   "cell_type": "code",
   "execution_count": 3,
   "id": "6771dfe3-6356-4ac6-a5dd-7083b28ed04f",
   "metadata": {},
   "outputs": [],
   "source": [
    "from sklearn.model_selection import GridSearchCV, RandomizedSearchCV\n",
    "from sklearn import datasets, svm\n",
    "from sklearn.model_selection import train_test_split"
   ]
  },
  {
   "attachments": {},
   "cell_type": "markdown",
   "id": "0dbc9a60",
   "metadata": {},
   "source": [
    "Let's fetch the Breast Cancer dataset and split it into train and test sets."
   ]
  },
  {
   "cell_type": "code",
   "execution_count": 4,
   "id": "c6b3287d-85a0-493f-9404-06519df98b18",
   "metadata": {},
   "outputs": [],
   "source": [
    "X, y = datasets.load_breast_cancer(return_X_y=True)\n",
    "X_train, X_test, y_train, y_test = train_test_split(X, y, test_size=0.4, random_state=0)"
   ]
  },
  {
   "attachments": {},
   "cell_type": "markdown",
   "id": "59ac1f0f",
   "metadata": {},
   "source": [
    "### `GridSearchCV`"
   ]
  },
  {
   "attachments": {},
   "cell_type": "markdown",
   "id": "c31d3351",
   "metadata": {},
   "source": [
    "Our classifier will be a SVM, for which we want to find the best hyperparameters. We will use a grid search to find the best combination of hyperparameters.\n",
    "\n",
    "The hyperparameters that we are going to tune are:\n",
    "\n",
    " - `C` - Regularization parameter. The strength of the regularization is inversely proportional to C. Must be strictly positive. The penalty is a squared l2 penalty.\n",
    " - `kernel` - Specifies the kernel type to be used in the algorithm. It must be one of 'linear', 'poly', 'rbf', 'sigmoid', 'precomputed' or a callable. If none is given, 'rbf' will be used. If a callable is given it is used to pre-compute the kernel matrix from data matrices; that matrix should be an array of shape (n_samples, n_samples)."
   ]
  },
  {
   "cell_type": "code",
   "execution_count": 5,
   "id": "5a4851a1-a848-453c-9e4e-01d56602e0ef",
   "metadata": {},
   "outputs": [],
   "source": [
    "clf = svm.SVC()\n",
    "\n",
    "parameters = {\n",
    "    'kernel': ['linear', 'rbf'],\n",
    "    'C': [0.1, 1, 10, 100]\n",
    "}"
   ]
  },
  {
   "attachments": {},
   "cell_type": "markdown",
   "id": "a3e5d0c3",
   "metadata": {},
   "source": [
    "It's called a Grid Search because we are going to create a grid of hyperparameters and try all combinations. \n",
    "\n",
    "We will use a 3-fold cross-validation to evaluate the performance of each combination of hyperparameters."
   ]
  },
  {
   "cell_type": "code",
   "execution_count": 10,
   "id": "7cb9324b",
   "metadata": {},
   "outputs": [
    {
     "data": {
      "text/plain": [
       "[('linear', 0.1),\n",
       " ('linear', 1),\n",
       " ('linear', 10),\n",
       " ('linear', 100),\n",
       " ('rbf', 0.1),\n",
       " ('rbf', 1),\n",
       " ('rbf', 10),\n",
       " ('rbf', 100)]"
      ]
     },
     "execution_count": 10,
     "metadata": {},
     "output_type": "execute_result"
    }
   ],
   "source": [
    "# combination of hyper-parameters\n",
    "import itertools\n",
    "\n",
    "kernels = ['linear', 'rbf']\n",
    "C_values = [0.1, 1, 10, 100]\n",
    "\n",
    "list(itertools.product(kernels, C_values))\n"
   ]
  },
  {
   "attachments": {},
   "cell_type": "markdown",
   "id": "6c5725c0",
   "metadata": {},
   "source": [
    "We have 8 combinations of hyperparameters, so we will train 8 models and evaluate them with 3-fold CV. This means that we will train 24 models in total."
   ]
  },
  {
   "cell_type": "code",
   "execution_count": 6,
   "id": "f8fee3e5-ce91-4999-8c05-aaa0609b0319",
   "metadata": {},
   "outputs": [
    {
     "name": "stdout",
     "output_type": "stream",
     "text": [
      "CPU times: user 16.4 s, sys: 52.9 ms, total: 16.4 s\n",
      "Wall time: 16.5 s\n"
     ]
    },
    {
     "data": {
      "text/plain": [
       "GridSearchCV(cv=3, estimator=SVC(),\n",
       "             param_grid={'C': [0.1, 1, 10, 100], 'kernel': ['linear', 'rbf']})"
      ]
     },
     "execution_count": 6,
     "metadata": {},
     "output_type": "execute_result"
    }
   ],
   "source": [
    "%%time\n",
    "\n",
    "grid = GridSearchCV(clf, param_grid=parameters, cv=3)\n",
    "grid.fit(X_train, y_train)"
   ]
  },
  {
   "cell_type": "code",
   "execution_count": 7,
   "id": "a602e27b-2c09-40aa-802b-e5f7ca43ebe4",
   "metadata": {},
   "outputs": [
    {
     "data": {
      "text/plain": [
       "{'C': 0.1, 'kernel': 'linear'}"
      ]
     },
     "execution_count": 7,
     "metadata": {},
     "output_type": "execute_result"
    }
   ],
   "source": [
    "grid.best_params_"
   ]
  },
  {
   "attachments": {},
   "cell_type": "markdown",
   "id": "c1cfc103",
   "metadata": {},
   "source": [
    "Let's see all the results, not only the best one"
   ]
  },
  {
   "cell_type": "code",
   "execution_count": 12,
   "id": "fa45ddf9",
   "metadata": {},
   "outputs": [
    {
     "data": {
      "text/plain": [
       "{'mean_fit_time': array([6.24368985e-02, 1.46404902e-03, 4.04681285e-01, 1.11325582e-03,\n",
       "        1.96932666e+00, 9.31262970e-04, 2.99414500e+00, 1.02639198e-03]),\n",
       " 'std_fit_time': array([2.26378576e-02, 5.80568686e-05, 4.28160803e-01, 4.07839044e-05,\n",
       "        1.36911407e+00, 5.30715687e-05, 1.48081143e+00, 2.47687721e-05]),\n",
       " 'mean_score_time': array([0.00057602, 0.00157499, 0.00046595, 0.00108004, 0.00043027,\n",
       "        0.00083176, 0.0004166 , 0.00073965]),\n",
       " 'std_score_time': array([1.67472831e-04, 3.35913644e-05, 2.80756367e-05, 2.44360628e-05,\n",
       "        1.01979504e-05, 5.98813100e-05, 8.47271633e-06, 5.32246301e-05]),\n",
       " 'param_C': masked_array(data=[0.1, 0.1, 1, 1, 10, 10, 100, 100],\n",
       "              mask=[False, False, False, False, False, False, False, False],\n",
       "        fill_value='?',\n",
       "             dtype=object),\n",
       " 'param_kernel': masked_array(data=['linear', 'rbf', 'linear', 'rbf', 'linear', 'rbf',\n",
       "                    'linear', 'rbf'],\n",
       "              mask=[False, False, False, False, False, False, False, False],\n",
       "        fill_value='?',\n",
       "             dtype=object),\n",
       " 'params': [{'C': 0.1, 'kernel': 'linear'},\n",
       "  {'C': 0.1, 'kernel': 'rbf'},\n",
       "  {'C': 1, 'kernel': 'linear'},\n",
       "  {'C': 1, 'kernel': 'rbf'},\n",
       "  {'C': 10, 'kernel': 'linear'},\n",
       "  {'C': 10, 'kernel': 'rbf'},\n",
       "  {'C': 100, 'kernel': 'linear'},\n",
       "  {'C': 100, 'kernel': 'rbf'}],\n",
       " 'split0_test_score': array([0.94736842, 0.84210526, 0.93859649, 0.86842105, 0.95614035,\n",
       "        0.87719298, 0.95614035, 0.88596491]),\n",
       " 'split1_test_score': array([0.95614035, 0.86842105, 0.96491228, 0.90350877, 0.93859649,\n",
       "        0.92105263, 0.92105263, 0.92105263]),\n",
       " 'split2_test_score': array([0.98230088, 0.88495575, 0.97345133, 0.91150442, 0.97345133,\n",
       "        0.92920354, 0.96460177, 0.9380531 ]),\n",
       " 'mean_test_score': array([0.96193655, 0.86516069, 0.9589867 , 0.89447808, 0.95606272,\n",
       "        0.90914972, 0.94726492, 0.91502355]),\n",
       " 'std_test_score': array([0.01483838, 0.0176449 , 0.0148335 , 0.01871201, 0.01422953,\n",
       "        0.02284052, 0.01885403, 0.02168805]),\n",
       " 'rank_test_score': array([1, 8, 2, 7, 3, 6, 4, 5], dtype=int32)}"
      ]
     },
     "execution_count": 12,
     "metadata": {},
     "output_type": "execute_result"
    }
   ],
   "source": [
    "grid.cv_results_"
   ]
  },
  {
   "attachments": {},
   "cell_type": "markdown",
   "id": "346e0ba6",
   "metadata": {},
   "source": [
    "Let's convert the results into a DataFrame"
   ]
  },
  {
   "cell_type": "code",
   "execution_count": 14,
   "id": "f15c742a",
   "metadata": {},
   "outputs": [
    {
     "data": {
      "text/html": [
       "<div>\n",
       "<style scoped>\n",
       "    .dataframe tbody tr th:only-of-type {\n",
       "        vertical-align: middle;\n",
       "    }\n",
       "\n",
       "    .dataframe tbody tr th {\n",
       "        vertical-align: top;\n",
       "    }\n",
       "\n",
       "    .dataframe thead th {\n",
       "        text-align: right;\n",
       "    }\n",
       "</style>\n",
       "<table border=\"1\" class=\"dataframe\">\n",
       "  <thead>\n",
       "    <tr style=\"text-align: right;\">\n",
       "      <th></th>\n",
       "      <th>mean_fit_time</th>\n",
       "      <th>std_fit_time</th>\n",
       "      <th>mean_score_time</th>\n",
       "      <th>std_score_time</th>\n",
       "      <th>param_C</th>\n",
       "      <th>param_kernel</th>\n",
       "      <th>params</th>\n",
       "      <th>split0_test_score</th>\n",
       "      <th>split1_test_score</th>\n",
       "      <th>split2_test_score</th>\n",
       "      <th>mean_test_score</th>\n",
       "      <th>std_test_score</th>\n",
       "      <th>rank_test_score</th>\n",
       "    </tr>\n",
       "  </thead>\n",
       "  <tbody>\n",
       "    <tr>\n",
       "      <th>0</th>\n",
       "      <td>0.062437</td>\n",
       "      <td>0.022638</td>\n",
       "      <td>0.000576</td>\n",
       "      <td>0.000167</td>\n",
       "      <td>0.1</td>\n",
       "      <td>linear</td>\n",
       "      <td>{'C': 0.1, 'kernel': 'linear'}</td>\n",
       "      <td>0.947368</td>\n",
       "      <td>0.956140</td>\n",
       "      <td>0.982301</td>\n",
       "      <td>0.961937</td>\n",
       "      <td>0.014838</td>\n",
       "      <td>1</td>\n",
       "    </tr>\n",
       "    <tr>\n",
       "      <th>1</th>\n",
       "      <td>0.001464</td>\n",
       "      <td>0.000058</td>\n",
       "      <td>0.001575</td>\n",
       "      <td>0.000034</td>\n",
       "      <td>0.1</td>\n",
       "      <td>rbf</td>\n",
       "      <td>{'C': 0.1, 'kernel': 'rbf'}</td>\n",
       "      <td>0.842105</td>\n",
       "      <td>0.868421</td>\n",
       "      <td>0.884956</td>\n",
       "      <td>0.865161</td>\n",
       "      <td>0.017645</td>\n",
       "      <td>8</td>\n",
       "    </tr>\n",
       "    <tr>\n",
       "      <th>2</th>\n",
       "      <td>0.404681</td>\n",
       "      <td>0.428161</td>\n",
       "      <td>0.000466</td>\n",
       "      <td>0.000028</td>\n",
       "      <td>1</td>\n",
       "      <td>linear</td>\n",
       "      <td>{'C': 1, 'kernel': 'linear'}</td>\n",
       "      <td>0.938596</td>\n",
       "      <td>0.964912</td>\n",
       "      <td>0.973451</td>\n",
       "      <td>0.958987</td>\n",
       "      <td>0.014834</td>\n",
       "      <td>2</td>\n",
       "    </tr>\n",
       "    <tr>\n",
       "      <th>3</th>\n",
       "      <td>0.001113</td>\n",
       "      <td>0.000041</td>\n",
       "      <td>0.001080</td>\n",
       "      <td>0.000024</td>\n",
       "      <td>1</td>\n",
       "      <td>rbf</td>\n",
       "      <td>{'C': 1, 'kernel': 'rbf'}</td>\n",
       "      <td>0.868421</td>\n",
       "      <td>0.903509</td>\n",
       "      <td>0.911504</td>\n",
       "      <td>0.894478</td>\n",
       "      <td>0.018712</td>\n",
       "      <td>7</td>\n",
       "    </tr>\n",
       "    <tr>\n",
       "      <th>4</th>\n",
       "      <td>1.969327</td>\n",
       "      <td>1.369114</td>\n",
       "      <td>0.000430</td>\n",
       "      <td>0.000010</td>\n",
       "      <td>10</td>\n",
       "      <td>linear</td>\n",
       "      <td>{'C': 10, 'kernel': 'linear'}</td>\n",
       "      <td>0.956140</td>\n",
       "      <td>0.938596</td>\n",
       "      <td>0.973451</td>\n",
       "      <td>0.956063</td>\n",
       "      <td>0.014230</td>\n",
       "      <td>3</td>\n",
       "    </tr>\n",
       "    <tr>\n",
       "      <th>5</th>\n",
       "      <td>0.000931</td>\n",
       "      <td>0.000053</td>\n",
       "      <td>0.000832</td>\n",
       "      <td>0.000060</td>\n",
       "      <td>10</td>\n",
       "      <td>rbf</td>\n",
       "      <td>{'C': 10, 'kernel': 'rbf'}</td>\n",
       "      <td>0.877193</td>\n",
       "      <td>0.921053</td>\n",
       "      <td>0.929204</td>\n",
       "      <td>0.909150</td>\n",
       "      <td>0.022841</td>\n",
       "      <td>6</td>\n",
       "    </tr>\n",
       "    <tr>\n",
       "      <th>6</th>\n",
       "      <td>2.994145</td>\n",
       "      <td>1.480811</td>\n",
       "      <td>0.000417</td>\n",
       "      <td>0.000008</td>\n",
       "      <td>100</td>\n",
       "      <td>linear</td>\n",
       "      <td>{'C': 100, 'kernel': 'linear'}</td>\n",
       "      <td>0.956140</td>\n",
       "      <td>0.921053</td>\n",
       "      <td>0.964602</td>\n",
       "      <td>0.947265</td>\n",
       "      <td>0.018854</td>\n",
       "      <td>4</td>\n",
       "    </tr>\n",
       "    <tr>\n",
       "      <th>7</th>\n",
       "      <td>0.001026</td>\n",
       "      <td>0.000025</td>\n",
       "      <td>0.000740</td>\n",
       "      <td>0.000053</td>\n",
       "      <td>100</td>\n",
       "      <td>rbf</td>\n",
       "      <td>{'C': 100, 'kernel': 'rbf'}</td>\n",
       "      <td>0.885965</td>\n",
       "      <td>0.921053</td>\n",
       "      <td>0.938053</td>\n",
       "      <td>0.915024</td>\n",
       "      <td>0.021688</td>\n",
       "      <td>5</td>\n",
       "    </tr>\n",
       "  </tbody>\n",
       "</table>\n",
       "</div>"
      ],
      "text/plain": [
       "   mean_fit_time  std_fit_time  mean_score_time  std_score_time param_C  \\\n",
       "0       0.062437      0.022638         0.000576        0.000167     0.1   \n",
       "1       0.001464      0.000058         0.001575        0.000034     0.1   \n",
       "2       0.404681      0.428161         0.000466        0.000028       1   \n",
       "3       0.001113      0.000041         0.001080        0.000024       1   \n",
       "4       1.969327      1.369114         0.000430        0.000010      10   \n",
       "5       0.000931      0.000053         0.000832        0.000060      10   \n",
       "6       2.994145      1.480811         0.000417        0.000008     100   \n",
       "7       0.001026      0.000025         0.000740        0.000053     100   \n",
       "\n",
       "  param_kernel                          params  split0_test_score  \\\n",
       "0       linear  {'C': 0.1, 'kernel': 'linear'}           0.947368   \n",
       "1          rbf     {'C': 0.1, 'kernel': 'rbf'}           0.842105   \n",
       "2       linear    {'C': 1, 'kernel': 'linear'}           0.938596   \n",
       "3          rbf       {'C': 1, 'kernel': 'rbf'}           0.868421   \n",
       "4       linear   {'C': 10, 'kernel': 'linear'}           0.956140   \n",
       "5          rbf      {'C': 10, 'kernel': 'rbf'}           0.877193   \n",
       "6       linear  {'C': 100, 'kernel': 'linear'}           0.956140   \n",
       "7          rbf     {'C': 100, 'kernel': 'rbf'}           0.885965   \n",
       "\n",
       "   split1_test_score  split2_test_score  mean_test_score  std_test_score  \\\n",
       "0           0.956140           0.982301         0.961937        0.014838   \n",
       "1           0.868421           0.884956         0.865161        0.017645   \n",
       "2           0.964912           0.973451         0.958987        0.014834   \n",
       "3           0.903509           0.911504         0.894478        0.018712   \n",
       "4           0.938596           0.973451         0.956063        0.014230   \n",
       "5           0.921053           0.929204         0.909150        0.022841   \n",
       "6           0.921053           0.964602         0.947265        0.018854   \n",
       "7           0.921053           0.938053         0.915024        0.021688   \n",
       "\n",
       "   rank_test_score  \n",
       "0                1  \n",
       "1                8  \n",
       "2                2  \n",
       "3                7  \n",
       "4                3  \n",
       "5                6  \n",
       "6                4  \n",
       "7                5  "
      ]
     },
     "execution_count": 14,
     "metadata": {},
     "output_type": "execute_result"
    }
   ],
   "source": [
    "# converting the results dictionary into a dataframe\n",
    "df = pd.DataFrame(grid.cv_results_)\n",
    "\n",
    "df"
   ]
  },
  {
   "cell_type": "code",
   "execution_count": 16,
   "id": "ee29a0f7",
   "metadata": {},
   "outputs": [
    {
     "data": {
      "text/plain": [
       "<AxesSubplot:ylabel='params'>"
      ]
     },
     "execution_count": 16,
     "metadata": {},
     "output_type": "execute_result"
    },
    {
     "data": {
      "image/png": "[encoded data removed]",
      "text/plain": [
       "<Figure size 432x288 with 2 Axes>"
      ]
     },
     "metadata": {
      "needs_background": "light"
     },
     "output_type": "display_data"
    }
   ],
   "source": [
    "# plot test scores for each combination of hyper-parameters in each split as a heatmap\n",
    "import seaborn as sns\n",
    "\n",
    "test_scores = df.set_index(\"params\")[[\"split0_test_score\", \"split1_test_score\", \"split2_test_score\"]]\n",
    "\n",
    "sns.heatmap(test_scores, annot=True, fmt=\".2f\")"
   ]
  },
  {
   "attachments": {},
   "cell_type": "markdown",
   "id": "05185b52",
   "metadata": {},
   "source": [
    "### `RandomizedSearchCV`\n",
    "\n",
    "We can also use a Randomized Search to find the best hyperparameters. It's faster than a Grid Search because it doesn't try all combinations, but it's not as accurate as a Grid Search, obviously.\n",
    "\n",
    "It works in the same way as a Grid Search, but instead of trying all combinations, it randomly selects a fixed number of combinations from the hyperparameter grid."
   ]
  },
  {
   "cell_type": "code",
   "execution_count": 34,
   "id": "6d4f7f7b",
   "metadata": {},
   "outputs": [
    {
     "data": {
      "text/plain": [
       "RandomizedSearchCV(cv=3, estimator=SVC(), n_iter=20,\n",
       "                   param_distributions={'C': [0.01, 0.05, 0.1, 0.5, 1, 5, 10,\n",
       "                                              50, 100],\n",
       "                                        'kernel': ['linear', 'rbf', 'poly']},\n",
       "                   scoring='accuracy')"
      ]
     },
     "execution_count": 34,
     "metadata": {},
     "output_type": "execute_result"
    }
   ],
   "source": [
    "params = {\n",
    "    \"kernel\": [\"linear\", \"rbf\", \"poly\"],\n",
    "    \"C\": [0.01, 0.05, 0.1, 0.5, 1, 5, 10, 50, 100],\n",
    "}\n",
    "\n",
    "random_grid = RandomizedSearchCV(\n",
    "    clf, \n",
    "    scoring=\"accuracy\",\n",
    "    param_distributions=params, \n",
    "    cv=3, \n",
    "    n_iter=20 # the lower, the faster and less accurate\n",
    ")\n",
    "\n",
    "random_grid.fit(X_train, y_train)"
   ]
  },
  {
   "cell_type": "code",
   "execution_count": 35,
   "id": "2a46b3a3",
   "metadata": {},
   "outputs": [
    {
     "data": {
      "text/plain": [
       "{'kernel': 'linear', 'C': 5}"
      ]
     },
     "execution_count": 35,
     "metadata": {},
     "output_type": "execute_result"
    }
   ],
   "source": [
    "random_grid.best_params_"
   ]
  },
  {
   "cell_type": "code",
   "execution_count": 37,
   "id": "b141315f",
   "metadata": {},
   "outputs": [
    {
     "data": {
      "text/html": [
       "<div>\n",
       "<style scoped>\n",
       "    .dataframe tbody tr th:only-of-type {\n",
       "        vertical-align: middle;\n",
       "    }\n",
       "\n",
       "    .dataframe tbody tr th {\n",
       "        vertical-align: top;\n",
       "    }\n",
       "\n",
       "    .dataframe thead th {\n",
       "        text-align: right;\n",
       "    }\n",
       "</style>\n",
       "<table border=\"1\" class=\"dataframe\">\n",
       "  <thead>\n",
       "    <tr style=\"text-align: right;\">\n",
       "      <th></th>\n",
       "      <th>mean_fit_time</th>\n",
       "      <th>std_fit_time</th>\n",
       "      <th>mean_score_time</th>\n",
       "      <th>std_score_time</th>\n",
       "      <th>param_kernel</th>\n",
       "      <th>param_C</th>\n",
       "      <th>params</th>\n",
       "      <th>split0_test_score</th>\n",
       "      <th>split1_test_score</th>\n",
       "      <th>split2_test_score</th>\n",
       "      <th>mean_test_score</th>\n",
       "      <th>std_test_score</th>\n",
       "      <th>rank_test_score</th>\n",
       "    </tr>\n",
       "  </thead>\n",
       "  <tbody>\n",
       "    <tr>\n",
       "      <th>0</th>\n",
       "      <td>0.001845</td>\n",
       "      <td>0.000304</td>\n",
       "      <td>0.000568</td>\n",
       "      <td>0.000058</td>\n",
       "      <td>poly</td>\n",
       "      <td>10</td>\n",
       "      <td>{'kernel': 'poly', 'C': 10}</td>\n",
       "      <td>0.877193</td>\n",
       "      <td>0.903509</td>\n",
       "      <td>0.929204</td>\n",
       "      <td>0.903302</td>\n",
       "      <td>0.021234</td>\n",
       "      <td>11</td>\n",
       "    </tr>\n",
       "    <tr>\n",
       "      <th>1</th>\n",
       "      <td>0.000944</td>\n",
       "      <td>0.000029</td>\n",
       "      <td>0.000450</td>\n",
       "      <td>0.000025</td>\n",
       "      <td>poly</td>\n",
       "      <td>0.5</td>\n",
       "      <td>{'kernel': 'poly', 'C': 0.5}</td>\n",
       "      <td>0.868421</td>\n",
       "      <td>0.885965</td>\n",
       "      <td>0.893805</td>\n",
       "      <td>0.882730</td>\n",
       "      <td>0.010612</td>\n",
       "      <td>15</td>\n",
       "    </tr>\n",
       "    <tr>\n",
       "      <th>2</th>\n",
       "      <td>0.001017</td>\n",
       "      <td>0.000128</td>\n",
       "      <td>0.000375</td>\n",
       "      <td>0.000020</td>\n",
       "      <td>poly</td>\n",
       "      <td>100</td>\n",
       "      <td>{'kernel': 'poly', 'C': 100}</td>\n",
       "      <td>0.885965</td>\n",
       "      <td>0.912281</td>\n",
       "      <td>0.911504</td>\n",
       "      <td>0.903250</td>\n",
       "      <td>0.012227</td>\n",
       "      <td>12</td>\n",
       "    </tr>\n",
       "    <tr>\n",
       "      <th>3</th>\n",
       "      <td>0.001895</td>\n",
       "      <td>0.000101</td>\n",
       "      <td>0.001997</td>\n",
       "      <td>0.000059</td>\n",
       "      <td>rbf</td>\n",
       "      <td>0.05</td>\n",
       "      <td>{'kernel': 'rbf', 'C': 0.05}</td>\n",
       "      <td>0.842105</td>\n",
       "      <td>0.850877</td>\n",
       "      <td>0.876106</td>\n",
       "      <td>0.856363</td>\n",
       "      <td>0.014413</td>\n",
       "      <td>19</td>\n",
       "    </tr>\n",
       "    <tr>\n",
       "      <th>4</th>\n",
       "      <td>0.000972</td>\n",
       "      <td>0.000002</td>\n",
       "      <td>0.000485</td>\n",
       "      <td>0.000017</td>\n",
       "      <td>poly</td>\n",
       "      <td>0.1</td>\n",
       "      <td>{'kernel': 'poly', 'C': 0.1}</td>\n",
       "      <td>0.842105</td>\n",
       "      <td>0.877193</td>\n",
       "      <td>0.884956</td>\n",
       "      <td>0.868085</td>\n",
       "      <td>0.018642</td>\n",
       "      <td>16</td>\n",
       "    </tr>\n",
       "  </tbody>\n",
       "</table>\n",
       "</div>"
      ],
      "text/plain": [
       "   mean_fit_time  std_fit_time  mean_score_time  std_score_time param_kernel  \\\n",
       "0       0.001845      0.000304         0.000568        0.000058         poly   \n",
       "1       0.000944      0.000029         0.000450        0.000025         poly   \n",
       "2       0.001017      0.000128         0.000375        0.000020         poly   \n",
       "3       0.001895      0.000101         0.001997        0.000059          rbf   \n",
       "4       0.000972      0.000002         0.000485        0.000017         poly   \n",
       "\n",
       "  param_C                        params  split0_test_score  split1_test_score  \\\n",
       "0      10   {'kernel': 'poly', 'C': 10}           0.877193           0.903509   \n",
       "1     0.5  {'kernel': 'poly', 'C': 0.5}           0.868421           0.885965   \n",
       "2     100  {'kernel': 'poly', 'C': 100}           0.885965           0.912281   \n",
       "3    0.05  {'kernel': 'rbf', 'C': 0.05}           0.842105           0.850877   \n",
       "4     0.1  {'kernel': 'poly', 'C': 0.1}           0.842105           0.877193   \n",
       "\n",
       "   split2_test_score  mean_test_score  std_test_score  rank_test_score  \n",
       "0           0.929204         0.903302        0.021234               11  \n",
       "1           0.893805         0.882730        0.010612               15  \n",
       "2           0.911504         0.903250        0.012227               12  \n",
       "3           0.876106         0.856363        0.014413               19  \n",
       "4           0.884956         0.868085        0.018642               16  "
      ]
     },
     "execution_count": 37,
     "metadata": {},
     "output_type": "execute_result"
    }
   ],
   "source": [
    "results = pd.DataFrame(random_grid.cv_results_)\n",
    "\n",
    "results.head()"
   ]
  },
  {
   "cell_type": "code",
   "execution_count": 39,
   "id": "0a29957c",
   "metadata": {},
   "outputs": [
    {
     "data": {
      "text/plain": [
       "{'kernel': 'linear', 'C': 5}"
      ]
     },
     "execution_count": 39,
     "metadata": {},
     "output_type": "execute_result"
    }
   ],
   "source": [
    "results.iloc[results[\"mean_test_score\"].idxmax()][\"params\"]"
   ]
  }
 ],
 "metadata": {
  "kernelspec": {
   "display_name": "Python 3",
   "language": "python",
   "name": "python3"
  },
  "language_info": {
   "codemirror_mode": {
    "name": "ipython",
    "version": 3
   },
   "file_extension": ".py",
   "mimetype": "text/x-python",
   "name": "python",
   "nbconvert_exporter": "python",
   "pygments_lexer": "ipython3",
   "version": "3.8.12"
  },
  "toc-autonumbering": true,
  "vscode": {
   "interpreter": {
    "hash": "a9f295c814a5ce7ff0b0a20f2b13117bfaf008fc7980e281f2c2bfa8e9ec0fbf"
   }
  }
 },
 "nbformat": 4,
 "nbformat_minor": 5
}

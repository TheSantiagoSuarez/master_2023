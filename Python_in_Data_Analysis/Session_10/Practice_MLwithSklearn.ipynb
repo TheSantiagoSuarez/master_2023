{
 "cells": [
  {
   "cell_type": "markdown",
   "id": "864e3c9e",
   "metadata": {},
   "source": [
    "<table border=\"0\" style=\"width:100%\">\n",
    " <tr>\n",
    "    <td>\n",
    "        <img src=\"https://static-frm.ie.edu/university/wp-content/uploads/sites/6/2022/06/IE-University-logo.png\" width=150>\n",
    "     </td>\n",
    "    <td><div style=\"font-family:'Courier New'\">\n",
    "            <div style=\"font-size:25px\">\n",
    "                <div style=\"text-align: right\"> \n",
    "                    <b> MASTER IN BIG DATA</b>\n",
    "                    <br>\n",
    "                    Python for Data Analysis II\n",
    "                    <br><br>\n",
    "                    <em> Daniel Sierra Ramos </em>\n",
    "                </div>\n",
    "            </div>\n",
    "        </div>\n",
    "    </td>\n",
    " </tr>\n",
    "</table>"
   ]
  },
  {
   "cell_type": "markdown",
   "id": "7920170e",
   "metadata": {},
   "source": [
    "# **PRACTICE - ML WITH `sklearn`**"
   ]
  },
  {
   "cell_type": "markdown",
   "id": "b8da651d-7e03-4c46-9c2c-a5b94742e429",
   "metadata": {},
   "source": [
    "Load the `fetch_covtype` dataset from sklearn and build a multiclass classification model applying all you already know about ML."
   ]
  },
  {
   "cell_type": "code",
   "execution_count": 1,
   "id": "a3251a60-c203-4a76-80e8-6e5a0a88ae64",
   "metadata": {},
   "outputs": [],
   "source": [
    "from sklearn.datasets import fetch_covtype"
   ]
  },
  {
   "cell_type": "code",
   "execution_count": 2,
   "id": "17a5fdbb-977e-42a0-a17d-671714eba9e3",
   "metadata": {},
   "outputs": [],
   "source": [
    "data = fetch_covtype()"
   ]
  },
  {
   "cell_type": "code",
   "execution_count": 3,
   "id": "876eeaeb-c47a-4393-8e38-07ff16585e60",
   "metadata": {},
   "outputs": [
    {
     "data": {
      "text/plain": [
       "{'data': array([[2.596e+03, 5.100e+01, 3.000e+00, ..., 0.000e+00, 0.000e+00,\n",
       "         0.000e+00],\n",
       "        [2.590e+03, 5.600e+01, 2.000e+00, ..., 0.000e+00, 0.000e+00,\n",
       "         0.000e+00],\n",
       "        [2.804e+03, 1.390e+02, 9.000e+00, ..., 0.000e+00, 0.000e+00,\n",
       "         0.000e+00],\n",
       "        ...,\n",
       "        [2.386e+03, 1.590e+02, 1.700e+01, ..., 0.000e+00, 0.000e+00,\n",
       "         0.000e+00],\n",
       "        [2.384e+03, 1.700e+02, 1.500e+01, ..., 0.000e+00, 0.000e+00,\n",
       "         0.000e+00],\n",
       "        [2.383e+03, 1.650e+02, 1.300e+01, ..., 0.000e+00, 0.000e+00,\n",
       "         0.000e+00]]),\n",
       " 'target': array([5, 5, 2, ..., 3, 3, 3], dtype=int32),\n",
       " 'frame': None,\n",
       " 'target_names': ['Cover_Type'],\n",
       " 'feature_names': ['Elevation',\n",
       "  'Aspect',\n",
       "  'Slope',\n",
       "  'Horizontal_Distance_To_Hydrology',\n",
       "  'Vertical_Distance_To_Hydrology',\n",
       "  'Horizontal_Distance_To_Roadways',\n",
       "  'Hillshade_9am',\n",
       "  'Hillshade_Noon',\n",
       "  'Hillshade_3pm',\n",
       "  'Horizontal_Distance_To_Fire_Points',\n",
       "  'Wilderness_Area_0',\n",
       "  'Wilderness_Area_1',\n",
       "  'Wilderness_Area_2',\n",
       "  'Wilderness_Area_3',\n",
       "  'Soil_Type_0',\n",
       "  'Soil_Type_1',\n",
       "  'Soil_Type_2',\n",
       "  'Soil_Type_3',\n",
       "  'Soil_Type_4',\n",
       "  'Soil_Type_5',\n",
       "  'Soil_Type_6',\n",
       "  'Soil_Type_7',\n",
       "  'Soil_Type_8',\n",
       "  'Soil_Type_9',\n",
       "  'Soil_Type_10',\n",
       "  'Soil_Type_11',\n",
       "  'Soil_Type_12',\n",
       "  'Soil_Type_13',\n",
       "  'Soil_Type_14',\n",
       "  'Soil_Type_15',\n",
       "  'Soil_Type_16',\n",
       "  'Soil_Type_17',\n",
       "  'Soil_Type_18',\n",
       "  'Soil_Type_19',\n",
       "  'Soil_Type_20',\n",
       "  'Soil_Type_21',\n",
       "  'Soil_Type_22',\n",
       "  'Soil_Type_23',\n",
       "  'Soil_Type_24',\n",
       "  'Soil_Type_25',\n",
       "  'Soil_Type_26',\n",
       "  'Soil_Type_27',\n",
       "  'Soil_Type_28',\n",
       "  'Soil_Type_29',\n",
       "  'Soil_Type_30',\n",
       "  'Soil_Type_31',\n",
       "  'Soil_Type_32',\n",
       "  'Soil_Type_33',\n",
       "  'Soil_Type_34',\n",
       "  'Soil_Type_35',\n",
       "  'Soil_Type_36',\n",
       "  'Soil_Type_37',\n",
       "  'Soil_Type_38',\n",
       "  'Soil_Type_39'],\n",
       " 'DESCR': \".. _covtype_dataset:\\n\\nForest covertypes\\n-----------------\\n\\nThe samples in this dataset correspond to 30×30m patches of forest in the US,\\ncollected for the task of predicting each patch's cover type,\\ni.e. the dominant species of tree.\\nThere are seven covertypes, making this a multiclass classification problem.\\nEach sample has 54 features, described on the\\n`dataset's homepage <https://archive.ics.uci.edu/ml/datasets/Covertype>`__.\\nSome of the features are boolean indicators,\\nwhile others are discrete or continuous measurements.\\n\\n**Data Set Characteristics:**\\n\\n    =================   ============\\n    Classes                        7\\n    Samples total             581012\\n    Dimensionality                54\\n    Features                     int\\n    =================   ============\\n\\n:func:`sklearn.datasets.fetch_covtype` will load the covertype dataset;\\nit returns a dictionary-like 'Bunch' object\\nwith the feature matrix in the ``data`` member\\nand the target values in ``target``. If optional argument 'as_frame' is\\nset to 'True', it will return ``data`` and ``target`` as pandas\\ndata frame, and there will be an additional member ``frame`` as well.\\nThe dataset will be downloaded from the web if necessary.\\n\"}"
      ]
     },
     "execution_count": 3,
     "metadata": {},
     "output_type": "execute_result"
    }
   ],
   "source": [
    "data"
   ]
  }
 ],
 "metadata": {
  "kernelspec": {
   "display_name": "Python [conda env:anaconda3-ml2] *",
   "language": "python",
   "name": "conda-env-anaconda3-ml2-py"
  },
  "language_info": {
   "codemirror_mode": {
    "name": "ipython",
    "version": 3
   },
   "file_extension": ".py",
   "mimetype": "text/x-python",
   "name": "python",
   "nbconvert_exporter": "python",
   "pygments_lexer": "ipython3",
   "version": "3.8.12"
  }
 },
 "nbformat": 4,
 "nbformat_minor": 5
}

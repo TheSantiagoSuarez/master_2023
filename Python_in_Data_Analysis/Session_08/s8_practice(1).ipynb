{
 "cells": [
  {
   "cell_type": "code",
   "execution_count": 54,
   "id": "7e8179b7-f66d-4205-9cd7-870826cbbf17",
   "metadata": {},
   "outputs": [],
   "source": [
    "import pandas as pd\n",
    "import numpy as np"
   ]
  },
  {
   "cell_type": "code",
   "execution_count": 55,
   "id": "cc97b338-abae-4dd7-a70e-87d302fc507c",
   "metadata": {},
   "outputs": [
    {
     "data": {
      "text/plain": [
       "'/Users/dgarhdez/Desktop/IE/ie-mbd-pda2/SESSION_07'"
      ]
     },
     "execution_count": 55,
     "metadata": {},
     "output_type": "execute_result"
    }
   ],
   "source": [
    "import os\n",
    "os.getcwd()"
   ]
  },
  {
   "cell_type": "code",
   "execution_count": 56,
   "id": "602dbc60-7120-4657-ae1d-f590392ded80",
   "metadata": {},
   "outputs": [],
   "source": [
    "wine = pd.read_csv(\"./data/winemag-data_first150k.csv\")"
   ]
  },
  {
   "cell_type": "code",
   "execution_count": 57,
   "id": "ad31a893-7a94-449d-b791-9738aea72091",
   "metadata": {},
   "outputs": [
    {
     "data": {
      "text/html": [
       "<div>\n",
       "<style scoped>\n",
       "    .dataframe tbody tr th:only-of-type {\n",
       "        vertical-align: middle;\n",
       "    }\n",
       "\n",
       "    .dataframe tbody tr th {\n",
       "        vertical-align: top;\n",
       "    }\n",
       "\n",
       "    .dataframe thead th {\n",
       "        text-align: right;\n",
       "    }\n",
       "</style>\n",
       "<table border=\"1\" class=\"dataframe\">\n",
       "  <thead>\n",
       "    <tr style=\"text-align: right;\">\n",
       "      <th></th>\n",
       "      <th>country</th>\n",
       "      <th>description</th>\n",
       "      <th>designation</th>\n",
       "      <th>points</th>\n",
       "      <th>price</th>\n",
       "      <th>province</th>\n",
       "      <th>region_1</th>\n",
       "      <th>region_2</th>\n",
       "      <th>variety</th>\n",
       "      <th>winery</th>\n",
       "    </tr>\n",
       "  </thead>\n",
       "  <tbody>\n",
       "    <tr>\n",
       "      <th>0</th>\n",
       "      <td>US</td>\n",
       "      <td>This tremendous 100% varietal wine hails from ...</td>\n",
       "      <td>Martha's Vineyard</td>\n",
       "      <td>96</td>\n",
       "      <td>235.0</td>\n",
       "      <td>California</td>\n",
       "      <td>Napa Valley</td>\n",
       "      <td>Napa</td>\n",
       "      <td>Cabernet Sauvignon</td>\n",
       "      <td>Heitz</td>\n",
       "    </tr>\n",
       "    <tr>\n",
       "      <th>1</th>\n",
       "      <td>Spain</td>\n",
       "      <td>Ripe aromas of fig, blackberry and cassis are ...</td>\n",
       "      <td>Carodorum Selección Especial Reserva</td>\n",
       "      <td>96</td>\n",
       "      <td>110.0</td>\n",
       "      <td>Northern Spain</td>\n",
       "      <td>Toro</td>\n",
       "      <td>NaN</td>\n",
       "      <td>Tinta de Toro</td>\n",
       "      <td>Bodega Carmen Rodríguez</td>\n",
       "    </tr>\n",
       "    <tr>\n",
       "      <th>2</th>\n",
       "      <td>US</td>\n",
       "      <td>Mac Watson honors the memory of a wine once ma...</td>\n",
       "      <td>Special Selected Late Harvest</td>\n",
       "      <td>96</td>\n",
       "      <td>90.0</td>\n",
       "      <td>California</td>\n",
       "      <td>Knights Valley</td>\n",
       "      <td>Sonoma</td>\n",
       "      <td>Sauvignon Blanc</td>\n",
       "      <td>Macauley</td>\n",
       "    </tr>\n",
       "    <tr>\n",
       "      <th>3</th>\n",
       "      <td>US</td>\n",
       "      <td>This spent 20 months in 30% new French oak, an...</td>\n",
       "      <td>Reserve</td>\n",
       "      <td>96</td>\n",
       "      <td>65.0</td>\n",
       "      <td>Oregon</td>\n",
       "      <td>Willamette Valley</td>\n",
       "      <td>Willamette Valley</td>\n",
       "      <td>Pinot Noir</td>\n",
       "      <td>Ponzi</td>\n",
       "    </tr>\n",
       "    <tr>\n",
       "      <th>4</th>\n",
       "      <td>France</td>\n",
       "      <td>This is the top wine from La Bégude, named aft...</td>\n",
       "      <td>La Brûlade</td>\n",
       "      <td>95</td>\n",
       "      <td>66.0</td>\n",
       "      <td>Provence</td>\n",
       "      <td>Bandol</td>\n",
       "      <td>NaN</td>\n",
       "      <td>Provence red blend</td>\n",
       "      <td>Domaine de la Bégude</td>\n",
       "    </tr>\n",
       "  </tbody>\n",
       "</table>\n",
       "</div>"
      ],
      "text/plain": [
       "  country                                        description  \\\n",
       "0      US  This tremendous 100% varietal wine hails from ...   \n",
       "1   Spain  Ripe aromas of fig, blackberry and cassis are ...   \n",
       "2      US  Mac Watson honors the memory of a wine once ma...   \n",
       "3      US  This spent 20 months in 30% new French oak, an...   \n",
       "4  France  This is the top wine from La Bégude, named aft...   \n",
       "\n",
       "                            designation  points  price        province  \\\n",
       "0                     Martha's Vineyard      96  235.0      California   \n",
       "1  Carodorum Selección Especial Reserva      96  110.0  Northern Spain   \n",
       "2         Special Selected Late Harvest      96   90.0      California   \n",
       "3                               Reserve      96   65.0          Oregon   \n",
       "4                            La Brûlade      95   66.0        Provence   \n",
       "\n",
       "            region_1           region_2             variety  \\\n",
       "0        Napa Valley               Napa  Cabernet Sauvignon   \n",
       "1               Toro                NaN       Tinta de Toro   \n",
       "2     Knights Valley             Sonoma     Sauvignon Blanc   \n",
       "3  Willamette Valley  Willamette Valley          Pinot Noir   \n",
       "4             Bandol                NaN  Provence red blend   \n",
       "\n",
       "                    winery  \n",
       "0                    Heitz  \n",
       "1  Bodega Carmen Rodríguez  \n",
       "2                 Macauley  \n",
       "3                    Ponzi  \n",
       "4     Domaine de la Bégude  "
      ]
     },
     "execution_count": 57,
     "metadata": {},
     "output_type": "execute_result"
    }
   ],
   "source": [
    "wine.drop('Unnamed: 0', axis=1, inplace=True)\n",
    "\n",
    "wine.head()"
   ]
  },
  {
   "attachments": {},
   "cell_type": "markdown",
   "id": "a12c7360",
   "metadata": {},
   "source": [
    "### Dealing with missing values"
   ]
  },
  {
   "cell_type": "code",
   "execution_count": 58,
   "id": "5061e2fb",
   "metadata": {},
   "outputs": [
    {
     "data": {
      "text/plain": [
       "country        0.000033\n",
       "description    0.000000\n",
       "designation    0.303021\n",
       "points         0.000000\n",
       "price          0.090737\n",
       "province       0.000033\n",
       "region_1       0.166037\n",
       "region_2       0.596151\n",
       "variety        0.000000\n",
       "winery         0.000000\n",
       "dtype: float64"
      ]
     },
     "execution_count": 58,
     "metadata": {},
     "output_type": "execute_result"
    }
   ],
   "source": [
    "wine.isna().mean()"
   ]
  },
  {
   "attachments": {},
   "cell_type": "markdown",
   "id": "753405fd",
   "metadata": {},
   "source": [
    "The main offenders missing-values.wise are:\n",
    "* `designation`\n",
    "* `price`\n",
    "* `province`\n",
    "* `region_1`\n",
    "* `region_2`"
   ]
  },
  {
   "attachments": {},
   "cell_type": "markdown",
   "id": "dc55afe3",
   "metadata": {},
   "source": [
    "#### Missing values in `designation`\n",
    "\n",
    "Let's assume that `designation` is a categorical variable. We can use the `fillna` method to fill the missing values with the most frequent value in the column.\n",
    "```python\n",
    "wine['designation'].fillna(\"missing\", inplace=True)\n",
    "```\n",
    "\n",
    "But first, let's create a new column `designation_missing` that indicates whether the value was missing or not.\n",
    "```python\n",
    "wine['designation_missing'] = 1 * wine['designation'].isna()\n",
    "```"
   ]
  },
  {
   "cell_type": "code",
   "execution_count": 59,
   "id": "3403a48e",
   "metadata": {},
   "outputs": [],
   "source": [
    "wine['designation_missing'] = 1 * wine['designation'].isna()\n",
    "wine[\"designation\"] = wine['designation'].fillna(\"missing\")"
   ]
  },
  {
   "attachments": {},
   "cell_type": "markdown",
   "id": "994e1964",
   "metadata": {},
   "source": [
    "#### Missing values in `price`\n",
    "We can see that the `price` variable is a float. We can fill the missing values in many ways:\n",
    "* Fill with the mean\n",
    "* Fill with the median\n",
    "* Interpolate the values\n",
    "* Train a model that predicts the price based on the other variables\n",
    "* ...\n",
    "\n",
    "Let's check the distribution of the `price` variable first\n"
   ]
  },
  {
   "cell_type": "code",
   "execution_count": 60,
   "id": "45eb7129",
   "metadata": {},
   "outputs": [
    {
     "data": {
      "text/plain": [
       "<AxesSubplot:>"
      ]
     },
     "execution_count": 60,
     "metadata": {},
     "output_type": "execute_result"
    },
    {
     "data": {
      "image/png": "[encoded data removed]",
      "text/plain": [
       "<Figure size 432x288 with 1 Axes>"
      ]
     },
     "metadata": {
      "needs_background": "light"
     },
     "output_type": "display_data"
    }
   ],
   "source": [
    "import matplotlib.pyplot as plt\n",
    "\n",
    "wine[\"price\"].hist(bins=100)"
   ]
  },
  {
   "attachments": {},
   "cell_type": "markdown",
   "id": "b5af8bff",
   "metadata": {},
   "source": [
    "We can see that the distribution is skewed to the right. We can fill the missing values with the median, which is more robust to outliers.\n",
    "\n",
    "Also, if using Linear Regression, we should use the log of the price, since it will convert the distribution to a normal-ish distribution. We can use the `np.log` function to do that.\n",
    "```python\n",
    "wine[\"log_price\"] = np.log(wine[\"price\"])\n",
    "```"
   ]
  },
  {
   "cell_type": "code",
   "execution_count": 61,
   "id": "bb807078",
   "metadata": {},
   "outputs": [],
   "source": [
    "wine[\"price_missing\"] = 1 * wine[\"price\"].isna()\n",
    "wine[\"price\"] = wine[\"price\"].fillna(wine[\"price\"].median())"
   ]
  },
  {
   "attachments": {},
   "cell_type": "markdown",
   "id": "4d466e06",
   "metadata": {},
   "source": [
    "#### Missing values in `province`\n",
    "\n",
    "Will drop those rows, since there are only 5 missing values."
   ]
  },
  {
   "attachments": {},
   "cell_type": "markdown",
   "id": "82faac71",
   "metadata": {},
   "source": [
    "#### Missing values in `region_1` and `region_2`\n",
    "\n",
    "This two variables are also categorical. We can fill the missing values with \"missing\" in the column."
   ]
  },
  {
   "cell_type": "code",
   "execution_count": 62,
   "id": "c7e259f5",
   "metadata": {},
   "outputs": [],
   "source": [
    "# region_1\n",
    "wine['region_1_missing'] = 1 * wine['region_1'].isna()\n",
    "wine[\"region_1\"] = wine['region_1'].fillna(\"missing\")\n",
    "\n",
    "# region_2\n",
    "wine['region_2_missing'] = 1 * wine['region_2'].isna()\n",
    "wine[\"region_2\"] = wine['region_2'].fillna(\"missing\")"
   ]
  },
  {
   "attachments": {},
   "cell_type": "markdown",
   "id": "00011c31",
   "metadata": {},
   "source": [
    "#### Dropping the rest of the missing values"
   ]
  },
  {
   "cell_type": "code",
   "execution_count": 63,
   "id": "0d7a4519",
   "metadata": {},
   "outputs": [
    {
     "name": "stdout",
     "output_type": "stream",
     "text": [
      "country                0.0\n",
      "description            0.0\n",
      "designation            0.0\n",
      "points                 0.0\n",
      "price                  0.0\n",
      "province               0.0\n",
      "region_1               0.0\n",
      "region_2               0.0\n",
      "variety                0.0\n",
      "winery                 0.0\n",
      "designation_missing    0.0\n",
      "price_missing          0.0\n",
      "region_1_missing       0.0\n",
      "region_2_missing       0.0\n",
      "dtype: float64\n",
      "(150925, 14)\n"
     ]
    }
   ],
   "source": [
    "wine = (\n",
    "    wine\n",
    "    .dropna(subset=['province'])\n",
    "    .reset_index(drop=True)\n",
    ")\n",
    "\n",
    "print(wine.isna().mean())\n",
    "print(wine.shape)"
   ]
  },
  {
   "attachments": {},
   "cell_type": "markdown",
   "id": "5d826cba",
   "metadata": {},
   "source": [
    "### Dealing with categorical variables\n",
    "\n",
    "Let's use `LabelEncoder` to encode the categorical variables. We can use the `get_dummies` method to create dummy variables for the categorical variables. Since we are going to use a tree-based model, we don't need to create dummy variables."
   ]
  },
  {
   "cell_type": "code",
   "execution_count": 64,
   "id": "ca7e1c13",
   "metadata": {},
   "outputs": [
    {
     "name": "stdout",
     "output_type": "stream",
     "text": [
      "country 48 categories\n",
      "designation 30619 categories\n",
      "province 455 categories\n",
      "region_1 1237 categories\n",
      "region_2 19 categories\n",
      "variety 632 categories\n",
      "winery 14809 categories\n"
     ]
    }
   ],
   "source": [
    "from sklearn.preprocessing import LabelEncoder\n",
    "\n",
    "cat_columns = [col for col in wine.select_dtypes(include=['object']).columns if col!=\"description\"]\n",
    "\n",
    "for cat_col in cat_columns:\n",
    "    print(cat_col, f\"{len(wine[cat_col].unique())} categories\")\n",
    "    wine[cat_col] = LabelEncoder().fit_transform(wine[cat_col])"
   ]
  },
  {
   "attachments": {},
   "cell_type": "markdown",
   "id": "0a197cc9",
   "metadata": {},
   "source": [
    "We can see that for `designation` and `winery` we have a lot of unique values. We can work with them as they are, but doing some target encoding might improve the performance of the model.\n",
    "* `designation`: We can use the mean of the `price` for each `designation` to encode the variable.\n",
    "* `winery`: We can use the mean of the `price` for each `winery` to encode the variable.\n",
    "\n",
    "With this, the column will not represent a category anymore, but a number."
   ]
  },
  {
   "cell_type": "code",
   "execution_count": 65,
   "id": "e2bf927a",
   "metadata": {},
   "outputs": [
    {
     "data": {
      "text/html": [
       "<div>\n",
       "<style scoped>\n",
       "    .dataframe tbody tr th:only-of-type {\n",
       "        vertical-align: middle;\n",
       "    }\n",
       "\n",
       "    .dataframe tbody tr th {\n",
       "        vertical-align: top;\n",
       "    }\n",
       "\n",
       "    .dataframe thead th {\n",
       "        text-align: right;\n",
       "    }\n",
       "</style>\n",
       "<table border=\"1\" class=\"dataframe\">\n",
       "  <thead>\n",
       "    <tr style=\"text-align: right;\">\n",
       "      <th></th>\n",
       "      <th>designation</th>\n",
       "      <th>winery</th>\n",
       "    </tr>\n",
       "  </thead>\n",
       "  <tbody>\n",
       "    <tr>\n",
       "      <th>0</th>\n",
       "      <td>177.500000</td>\n",
       "      <td>126.333333</td>\n",
       "    </tr>\n",
       "    <tr>\n",
       "      <th>1</th>\n",
       "      <td>110.000000</td>\n",
       "      <td>57.500000</td>\n",
       "    </tr>\n",
       "    <tr>\n",
       "      <th>2</th>\n",
       "      <td>90.000000</td>\n",
       "      <td>78.800000</td>\n",
       "    </tr>\n",
       "    <tr>\n",
       "      <th>3</th>\n",
       "      <td>33.230741</td>\n",
       "      <td>45.202703</td>\n",
       "    </tr>\n",
       "    <tr>\n",
       "      <th>4</th>\n",
       "      <td>66.000000</td>\n",
       "      <td>47.500000</td>\n",
       "    </tr>\n",
       "  </tbody>\n",
       "</table>\n",
       "</div>"
      ],
      "text/plain": [
       "   designation      winery\n",
       "0   177.500000  126.333333\n",
       "1   110.000000   57.500000\n",
       "2    90.000000   78.800000\n",
       "3    33.230741   45.202703\n",
       "4    66.000000   47.500000"
      ]
     },
     "execution_count": 65,
     "metadata": {},
     "output_type": "execute_result"
    }
   ],
   "source": [
    "wine[\"designation\"] = wine.groupby(\"designation\")[\"price\"].transform(\"mean\")\n",
    "wine[\"winery\"] = wine.groupby(\"winery\")[\"price\"].transform(\"mean\")\n",
    "\n",
    "wine[[\"designation\", \"winery\"]].head()"
   ]
  },
  {
   "attachments": {},
   "cell_type": "markdown",
   "id": "79729d3e",
   "metadata": {},
   "source": [
    "### Correlations\n",
    "\n",
    "Let's check the correlations between the variables. We can use the `corr` method to get the correlations between the variables."
   ]
  },
  {
   "cell_type": "code",
   "execution_count": 66,
   "id": "2cfd6a87",
   "metadata": {},
   "outputs": [
    {
     "name": "stderr",
     "output_type": "stream",
     "text": [
      "/var/folders/kn/gt9ggj051wdfjnfqv8xjl8qh0000gn/T/ipykernel_62973/395391247.py:1: FutureWarning: The default value of numeric_only in DataFrame.corr is deprecated. In a future version, it will default to False. Select only valid columns or specify the value of numeric_only to silence this warning.\n",
      "  wine_corr = wine.corr()\n"
     ]
    },
    {
     "data": {
      "text/plain": [
       "points                 1.000000\n",
       "winery                 0.431779\n",
       "price                  0.429703\n",
       "designation            0.366311\n",
       "price_missing          0.098722\n",
       "region_2               0.046325\n",
       "province               0.042154\n",
       "region_2_missing       0.006418\n",
       "country               -0.027086\n",
       "region_1              -0.041073\n",
       "region_1_missing      -0.051494\n",
       "variety               -0.069436\n",
       "designation_missing   -0.159978\n",
       "Name: points, dtype: float64"
      ]
     },
     "execution_count": 66,
     "metadata": {},
     "output_type": "execute_result"
    }
   ],
   "source": [
    "wine_corr = wine.corr()\n",
    "\n",
    "wine_corr[\"points\"].sort_values(ascending=False)"
   ]
  },
  {
   "attachments": {},
   "cell_type": "markdown",
   "id": "3e997631",
   "metadata": {},
   "source": [
    "With these results, we can only say that there is a correlation between `points` and `price` (0.43). We can see that the correlation is not very strong, but it is there.\n",
    "\n",
    "The rest of the variables are numbers that represent categories, therefore ANY correlation between them is not very meaningful, since the choice of the category is arbitrary."
   ]
  },
  {
   "attachments": {},
   "cell_type": "markdown",
   "id": "7ee2576d",
   "metadata": {},
   "source": [
    "### Dealing with text\n",
    "\n",
    "Let's use `TfidfVectorizer` to create a matrix with the TF-IDF values for each word in the `description` column.\n",
    "* `max_features`: We can use the `max_features` parameter to limit the number of features. We can use the `get_feature_names` method to get the names of the features.\n",
    "* `ngram_range`: We can use the `ngram_range` parameter to create features with more than one word. For example, if we use `(1, 2)`, we will create features with one word and two words.\n",
    "* `stop_words`: We can use the `stop_words` parameter to remove common words that don't add much information to the model."
   ]
  },
  {
   "cell_type": "code",
   "execution_count": 73,
   "id": "a007577a",
   "metadata": {},
   "outputs": [
    {
     "name": "stdout",
     "output_type": "stream",
     "text": [
      "(150925, 500)\n"
     ]
    }
   ],
   "source": [
    "from sklearn.feature_extraction.text import TfidfVectorizer\n",
    "\n",
    "tfidf = TfidfVectorizer(\n",
    "    max_features=500,  # keep only the top 5000 most frequent words\n",
    "    stop_words=\"english\", # remove stop words from the vocabulary\n",
    "    ngram_range=(1, 2) # unigrams and bigrams, cake, carrot, and carrot cake\n",
    ")\n",
    "\n",
    "# vectorized\n",
    "tfidf_desc = tfidf.fit_transform(wine[\"description\"])\n",
    "\n",
    "# add column namesto matrix as a dataframe\n",
    "tfidf_desc = pd.DataFrame(tfidf_desc.toarray(), columns=tfidf.get_feature_names_out())\n",
    "print(tfidf_desc.shape)"
   ]
  },
  {
   "cell_type": "code",
   "execution_count": 74,
   "id": "06f79cc7",
   "metadata": {},
   "outputs": [
    {
     "data": {
      "text/html": [
       "<div>\n",
       "<style scoped>\n",
       "    .dataframe tbody tr th:only-of-type {\n",
       "        vertical-align: middle;\n",
       "    }\n",
       "\n",
       "    .dataframe tbody tr th {\n",
       "        vertical-align: top;\n",
       "    }\n",
       "\n",
       "    .dataframe thead th {\n",
       "        text-align: right;\n",
       "    }\n",
       "</style>\n",
       "<table border=\"1\" class=\"dataframe\">\n",
       "  <thead>\n",
       "    <tr style=\"text-align: right;\">\n",
       "      <th></th>\n",
       "      <th>10</th>\n",
       "      <th>100</th>\n",
       "      <th>15</th>\n",
       "      <th>2010</th>\n",
       "      <th>2012</th>\n",
       "      <th>2015</th>\n",
       "      <th>accented</th>\n",
       "      <th>accents</th>\n",
       "      <th>acid</th>\n",
       "      <th>acidic</th>\n",
       "      <th>...</th>\n",
       "      <th>wood</th>\n",
       "      <th>wrapped</th>\n",
       "      <th>year</th>\n",
       "      <th>years</th>\n",
       "      <th>yellow</th>\n",
       "      <th>young</th>\n",
       "      <th>zest</th>\n",
       "      <th>zesty</th>\n",
       "      <th>zin</th>\n",
       "      <th>zinfandel</th>\n",
       "    </tr>\n",
       "  </thead>\n",
       "  <tbody>\n",
       "    <tr>\n",
       "      <th>0</th>\n",
       "      <td>0.0</td>\n",
       "      <td>0.264697</td>\n",
       "      <td>0.000000</td>\n",
       "      <td>0.0</td>\n",
       "      <td>0.0</td>\n",
       "      <td>0.0</td>\n",
       "      <td>0.0</td>\n",
       "      <td>0.0</td>\n",
       "      <td>0.0</td>\n",
       "      <td>0.0</td>\n",
       "      <td>...</td>\n",
       "      <td>0.000000</td>\n",
       "      <td>0.0</td>\n",
       "      <td>0.0</td>\n",
       "      <td>0.350987</td>\n",
       "      <td>0.0</td>\n",
       "      <td>0.0</td>\n",
       "      <td>0.0</td>\n",
       "      <td>0.0</td>\n",
       "      <td>0.0</td>\n",
       "      <td>0.0</td>\n",
       "    </tr>\n",
       "    <tr>\n",
       "      <th>1</th>\n",
       "      <td>0.0</td>\n",
       "      <td>0.000000</td>\n",
       "      <td>0.000000</td>\n",
       "      <td>0.0</td>\n",
       "      <td>0.0</td>\n",
       "      <td>0.0</td>\n",
       "      <td>0.0</td>\n",
       "      <td>0.0</td>\n",
       "      <td>0.0</td>\n",
       "      <td>0.0</td>\n",
       "      <td>...</td>\n",
       "      <td>0.000000</td>\n",
       "      <td>0.0</td>\n",
       "      <td>0.0</td>\n",
       "      <td>0.000000</td>\n",
       "      <td>0.0</td>\n",
       "      <td>0.0</td>\n",
       "      <td>0.0</td>\n",
       "      <td>0.0</td>\n",
       "      <td>0.0</td>\n",
       "      <td>0.0</td>\n",
       "    </tr>\n",
       "    <tr>\n",
       "      <th>2</th>\n",
       "      <td>0.0</td>\n",
       "      <td>0.000000</td>\n",
       "      <td>0.000000</td>\n",
       "      <td>0.0</td>\n",
       "      <td>0.0</td>\n",
       "      <td>0.0</td>\n",
       "      <td>0.0</td>\n",
       "      <td>0.0</td>\n",
       "      <td>0.0</td>\n",
       "      <td>0.0</td>\n",
       "      <td>...</td>\n",
       "      <td>0.000000</td>\n",
       "      <td>0.0</td>\n",
       "      <td>0.0</td>\n",
       "      <td>0.000000</td>\n",
       "      <td>0.0</td>\n",
       "      <td>0.0</td>\n",
       "      <td>0.0</td>\n",
       "      <td>0.0</td>\n",
       "      <td>0.0</td>\n",
       "      <td>0.0</td>\n",
       "    </tr>\n",
       "    <tr>\n",
       "      <th>3</th>\n",
       "      <td>0.0</td>\n",
       "      <td>0.000000</td>\n",
       "      <td>0.000000</td>\n",
       "      <td>0.0</td>\n",
       "      <td>0.0</td>\n",
       "      <td>0.0</td>\n",
       "      <td>0.0</td>\n",
       "      <td>0.0</td>\n",
       "      <td>0.0</td>\n",
       "      <td>0.0</td>\n",
       "      <td>...</td>\n",
       "      <td>0.000000</td>\n",
       "      <td>0.0</td>\n",
       "      <td>0.0</td>\n",
       "      <td>0.000000</td>\n",
       "      <td>0.0</td>\n",
       "      <td>0.0</td>\n",
       "      <td>0.0</td>\n",
       "      <td>0.0</td>\n",
       "      <td>0.0</td>\n",
       "      <td>0.0</td>\n",
       "    </tr>\n",
       "    <tr>\n",
       "      <th>4</th>\n",
       "      <td>0.0</td>\n",
       "      <td>0.000000</td>\n",
       "      <td>0.000000</td>\n",
       "      <td>0.0</td>\n",
       "      <td>0.0</td>\n",
       "      <td>0.0</td>\n",
       "      <td>0.0</td>\n",
       "      <td>0.0</td>\n",
       "      <td>0.0</td>\n",
       "      <td>0.0</td>\n",
       "      <td>...</td>\n",
       "      <td>0.243964</td>\n",
       "      <td>0.0</td>\n",
       "      <td>0.0</td>\n",
       "      <td>0.000000</td>\n",
       "      <td>0.0</td>\n",
       "      <td>0.0</td>\n",
       "      <td>0.0</td>\n",
       "      <td>0.0</td>\n",
       "      <td>0.0</td>\n",
       "      <td>0.0</td>\n",
       "    </tr>\n",
       "    <tr>\n",
       "      <th>...</th>\n",
       "      <td>...</td>\n",
       "      <td>...</td>\n",
       "      <td>...</td>\n",
       "      <td>...</td>\n",
       "      <td>...</td>\n",
       "      <td>...</td>\n",
       "      <td>...</td>\n",
       "      <td>...</td>\n",
       "      <td>...</td>\n",
       "      <td>...</td>\n",
       "      <td>...</td>\n",
       "      <td>...</td>\n",
       "      <td>...</td>\n",
       "      <td>...</td>\n",
       "      <td>...</td>\n",
       "      <td>...</td>\n",
       "      <td>...</td>\n",
       "      <td>...</td>\n",
       "      <td>...</td>\n",
       "      <td>...</td>\n",
       "      <td>...</td>\n",
       "    </tr>\n",
       "    <tr>\n",
       "      <th>150920</th>\n",
       "      <td>0.0</td>\n",
       "      <td>0.000000</td>\n",
       "      <td>0.000000</td>\n",
       "      <td>0.0</td>\n",
       "      <td>0.0</td>\n",
       "      <td>0.0</td>\n",
       "      <td>0.0</td>\n",
       "      <td>0.0</td>\n",
       "      <td>0.0</td>\n",
       "      <td>0.0</td>\n",
       "      <td>...</td>\n",
       "      <td>0.000000</td>\n",
       "      <td>0.0</td>\n",
       "      <td>0.0</td>\n",
       "      <td>0.000000</td>\n",
       "      <td>0.0</td>\n",
       "      <td>0.0</td>\n",
       "      <td>0.0</td>\n",
       "      <td>0.0</td>\n",
       "      <td>0.0</td>\n",
       "      <td>0.0</td>\n",
       "    </tr>\n",
       "    <tr>\n",
       "      <th>150921</th>\n",
       "      <td>0.0</td>\n",
       "      <td>0.000000</td>\n",
       "      <td>0.000000</td>\n",
       "      <td>0.0</td>\n",
       "      <td>0.0</td>\n",
       "      <td>0.0</td>\n",
       "      <td>0.0</td>\n",
       "      <td>0.0</td>\n",
       "      <td>0.0</td>\n",
       "      <td>0.0</td>\n",
       "      <td>...</td>\n",
       "      <td>0.000000</td>\n",
       "      <td>0.0</td>\n",
       "      <td>0.0</td>\n",
       "      <td>0.000000</td>\n",
       "      <td>0.0</td>\n",
       "      <td>0.0</td>\n",
       "      <td>0.0</td>\n",
       "      <td>0.0</td>\n",
       "      <td>0.0</td>\n",
       "      <td>0.0</td>\n",
       "    </tr>\n",
       "    <tr>\n",
       "      <th>150922</th>\n",
       "      <td>0.0</td>\n",
       "      <td>0.000000</td>\n",
       "      <td>0.000000</td>\n",
       "      <td>0.0</td>\n",
       "      <td>0.0</td>\n",
       "      <td>0.0</td>\n",
       "      <td>0.0</td>\n",
       "      <td>0.0</td>\n",
       "      <td>0.0</td>\n",
       "      <td>0.0</td>\n",
       "      <td>...</td>\n",
       "      <td>0.000000</td>\n",
       "      <td>0.0</td>\n",
       "      <td>0.0</td>\n",
       "      <td>0.000000</td>\n",
       "      <td>0.0</td>\n",
       "      <td>0.0</td>\n",
       "      <td>0.0</td>\n",
       "      <td>0.0</td>\n",
       "      <td>0.0</td>\n",
       "      <td>0.0</td>\n",
       "    </tr>\n",
       "    <tr>\n",
       "      <th>150923</th>\n",
       "      <td>0.0</td>\n",
       "      <td>0.000000</td>\n",
       "      <td>0.000000</td>\n",
       "      <td>0.0</td>\n",
       "      <td>0.0</td>\n",
       "      <td>0.0</td>\n",
       "      <td>0.0</td>\n",
       "      <td>0.0</td>\n",
       "      <td>0.0</td>\n",
       "      <td>0.0</td>\n",
       "      <td>...</td>\n",
       "      <td>0.000000</td>\n",
       "      <td>0.0</td>\n",
       "      <td>0.0</td>\n",
       "      <td>0.000000</td>\n",
       "      <td>0.0</td>\n",
       "      <td>0.0</td>\n",
       "      <td>0.0</td>\n",
       "      <td>0.0</td>\n",
       "      <td>0.0</td>\n",
       "      <td>0.0</td>\n",
       "    </tr>\n",
       "    <tr>\n",
       "      <th>150924</th>\n",
       "      <td>0.0</td>\n",
       "      <td>0.000000</td>\n",
       "      <td>0.316046</td>\n",
       "      <td>0.0</td>\n",
       "      <td>0.0</td>\n",
       "      <td>0.0</td>\n",
       "      <td>0.0</td>\n",
       "      <td>0.0</td>\n",
       "      <td>0.0</td>\n",
       "      <td>0.0</td>\n",
       "      <td>...</td>\n",
       "      <td>0.000000</td>\n",
       "      <td>0.0</td>\n",
       "      <td>0.0</td>\n",
       "      <td>0.000000</td>\n",
       "      <td>0.0</td>\n",
       "      <td>0.0</td>\n",
       "      <td>0.0</td>\n",
       "      <td>0.0</td>\n",
       "      <td>0.0</td>\n",
       "      <td>0.0</td>\n",
       "    </tr>\n",
       "  </tbody>\n",
       "</table>\n",
       "<p>150925 rows × 500 columns</p>\n",
       "</div>"
      ],
      "text/plain": [
       "         10       100        15  2010  2012  2015  accented  accents  acid  \\\n",
       "0       0.0  0.264697  0.000000   0.0   0.0   0.0       0.0      0.0   0.0   \n",
       "1       0.0  0.000000  0.000000   0.0   0.0   0.0       0.0      0.0   0.0   \n",
       "2       0.0  0.000000  0.000000   0.0   0.0   0.0       0.0      0.0   0.0   \n",
       "3       0.0  0.000000  0.000000   0.0   0.0   0.0       0.0      0.0   0.0   \n",
       "4       0.0  0.000000  0.000000   0.0   0.0   0.0       0.0      0.0   0.0   \n",
       "...     ...       ...       ...   ...   ...   ...       ...      ...   ...   \n",
       "150920  0.0  0.000000  0.000000   0.0   0.0   0.0       0.0      0.0   0.0   \n",
       "150921  0.0  0.000000  0.000000   0.0   0.0   0.0       0.0      0.0   0.0   \n",
       "150922  0.0  0.000000  0.000000   0.0   0.0   0.0       0.0      0.0   0.0   \n",
       "150923  0.0  0.000000  0.000000   0.0   0.0   0.0       0.0      0.0   0.0   \n",
       "150924  0.0  0.000000  0.316046   0.0   0.0   0.0       0.0      0.0   0.0   \n",
       "\n",
       "        acidic  ...      wood  wrapped  year     years  yellow  young  zest  \\\n",
       "0          0.0  ...  0.000000      0.0   0.0  0.350987     0.0    0.0   0.0   \n",
       "1          0.0  ...  0.000000      0.0   0.0  0.000000     0.0    0.0   0.0   \n",
       "2          0.0  ...  0.000000      0.0   0.0  0.000000     0.0    0.0   0.0   \n",
       "3          0.0  ...  0.000000      0.0   0.0  0.000000     0.0    0.0   0.0   \n",
       "4          0.0  ...  0.243964      0.0   0.0  0.000000     0.0    0.0   0.0   \n",
       "...        ...  ...       ...      ...   ...       ...     ...    ...   ...   \n",
       "150920     0.0  ...  0.000000      0.0   0.0  0.000000     0.0    0.0   0.0   \n",
       "150921     0.0  ...  0.000000      0.0   0.0  0.000000     0.0    0.0   0.0   \n",
       "150922     0.0  ...  0.000000      0.0   0.0  0.000000     0.0    0.0   0.0   \n",
       "150923     0.0  ...  0.000000      0.0   0.0  0.000000     0.0    0.0   0.0   \n",
       "150924     0.0  ...  0.000000      0.0   0.0  0.000000     0.0    0.0   0.0   \n",
       "\n",
       "        zesty  zin  zinfandel  \n",
       "0         0.0  0.0        0.0  \n",
       "1         0.0  0.0        0.0  \n",
       "2         0.0  0.0        0.0  \n",
       "3         0.0  0.0        0.0  \n",
       "4         0.0  0.0        0.0  \n",
       "...       ...  ...        ...  \n",
       "150920    0.0  0.0        0.0  \n",
       "150921    0.0  0.0        0.0  \n",
       "150922    0.0  0.0        0.0  \n",
       "150923    0.0  0.0        0.0  \n",
       "150924    0.0  0.0        0.0  \n",
       "\n",
       "[150925 rows x 500 columns]"
      ]
     },
     "execution_count": 74,
     "metadata": {},
     "output_type": "execute_result"
    }
   ],
   "source": [
    "tfidf_desc"
   ]
  },
  {
   "cell_type": "code",
   "execution_count": 75,
   "id": "93da8a8b",
   "metadata": {},
   "outputs": [
    {
     "name": "stdout",
     "output_type": "stream",
     "text": [
      "(150925, 512)\n",
      "(150925,)\n"
     ]
    }
   ],
   "source": [
    "wine_x = wine.drop([\"description\", \"points\"], axis=1)\n",
    "y = wine[\"points\"]\n",
    "x = pd.concat([wine_x, tfidf_desc], axis=1)\n",
    "\n",
    "print(x.shape)\n",
    "print(y.shape)"
   ]
  },
  {
   "attachments": {},
   "cell_type": "markdown",
   "id": "d21c5fd5",
   "metadata": {},
   "source": [
    "### Machine Learning part\n",
    "\n",
    "Let's use a Random Forest Regressor to predict the points of the wine.\n",
    "\n",
    "1. We need to split the data into train and test sets. We can use the `train_test_split` method to do that.\n",
    "2. We need to train the model. We can use the `fit` method to do that.\n",
    "3. We need to predict the points for the test set. We can use the `predict` method to do that.\n",
    "4. We need to evaluate the model. We can use the `mean_squared_error` and `r2_score` to do that.\n",
    "5. We can use the `feature_importances_` attribute to get the feature importances, save them in a DataFrame and sort them by the importance."
   ]
  },
  {
   "cell_type": "code",
   "execution_count": null,
   "id": "c107d420",
   "metadata": {},
   "outputs": [],
   "source": [
    "# Homework"
   ]
  }
 ],
 "metadata": {
  "kernelspec": {
   "display_name": "Python 3",
   "language": "python",
   "name": "python3"
  },
  "language_info": {
   "codemirror_mode": {
    "name": "ipython",
    "version": 3
   },
   "file_extension": ".py",
   "mimetype": "text/x-python",
   "name": "python",
   "nbconvert_exporter": "python",
   "pygments_lexer": "ipython3",
   "version": "3.8.12"
  },
  "vscode": {
   "interpreter": {
    "hash": "a9f295c814a5ce7ff0b0a20f2b13117bfaf008fc7980e281f2c2bfa8e9ec0fbf"
   }
  }
 },
 "nbformat": 4,
 "nbformat_minor": 5
}

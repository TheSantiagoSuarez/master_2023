{
 "cells": [
  {
   "cell_type": "markdown",
   "metadata": {},
   "source": [
    "<table border=\"0\" style=\"width:100%\">\n",
    " <tr>\n",
    "    <td>\n",
    "        <img src=\"https://static-frm.ie.edu/university/wp-content/uploads/sites/6/2022/06/IE-University-logo.png\" width=150>\n",
    "     </td>\n",
    "    <td><div style=\"font-family:'Courier New'\">\n",
    "            <div style=\"font-size:25px\">\n",
    "                <div style=\"text-align: right\"> \n",
    "                    <b> MASTER IN BIG DATA</b>\n",
    "                    <br>\n",
    "                    Python for Data Analysis II\n",
    "                    <br><br>\n",
    "                    <em> Daniel Sierra Ramos </em>\n",
    "                </div>\n",
    "            </div>\n",
    "        </div>\n",
    "    </td>\n",
    " </tr>\n",
    "</table>"
   ]
  },
  {
   "cell_type": "markdown",
   "metadata": {
    "colab_type": "text",
    "id": "tuhTO0jP4EeE"
   },
   "source": [
    "# **S16: PyCaret - Automated Machine Learning in Python**"
   ]
  },
  {
   "cell_type": "markdown",
   "metadata": {
    "colab_type": "text",
    "id": "fGHO07ET4EfB"
   },
   "source": [
    "## 0. Data"
   ]
  },
  {
   "cell_type": "markdown",
   "metadata": {
    "colab_type": "text",
    "id": "yeUS_YV24EfG"
   },
   "source": [
    "You can download the data from the original source __[found here](https://archive.ics.uci.edu/ml/datasets/default+of+credit+card+clients)__ and load it using the pandas read_csv function or you can use PyCaret's data respository to load the data using the get_data function (This will require an internet connection)."
   ]
  },
  {
   "cell_type": "code",
   "execution_count": 1,
   "metadata": {},
   "outputs": [],
   "source": [
    "import pandas as pd"
   ]
  },
  {
   "cell_type": "code",
   "execution_count": 2,
   "metadata": {
    "colab": {},
    "colab_type": "code",
    "id": "SwAC9YKj4EgZ",
    "outputId": "aac7ee4c-f6bb-421a-cecc-ac72ae86b81f"
   },
   "outputs": [],
   "source": [
    "from pycaret.datasets import get_data\n",
    "dataset = get_data('credit', profile=False)"
   ]
  },
  {
   "cell_type": "markdown",
   "metadata": {
    "colab_type": "text",
    "id": "NBjUo6XM4EhH"
   },
   "source": [
    "Notice that when the `profile` parameter is to `True`, it displays a data profile for exploratory data analysis. Several pre-processing steps as discussed in section 2 above will be performed in this experiment based on this analysis. Let's summarize how the profile has helped make critical pre-processing choices with the data.\n",
    "\n",
    "- **Missing Values:** There are no missing values in the data. However, we still need imputers in our pipeline just in case the new unseen data has missing values (not applicable in this case). When you execute the `setup()` function, imputers are created and stored in the pipeline automatically. By default, it uses a mean imputer for numeric values and a constant imputer for categorical. This can be changed using the `numeric_imputation` and `categorical_imputation` parameters in `setup()`. <br/>\n",
    "<br/>\n",
    "- **Multicollinearity:** There are high correlations between `BILL_AMT1 ... BIL_AMT6` which introduces multicollinearity into the data. We will remove multi-collinearity by using the `remove_multicollinearity` and `multicollinearity_threshold` parameters in setup. <br/>\n",
    "<br/>\n",
    "- **Data Scale / Range:** Notice how the scale / range of numeric features are different. For example the `AGE` feature ranges from between 21 to 79 and `BILL_AMT1` ranges from -165,580 to 964,511. This may cause problems for algorithms that assume all features have variance within the same order. In this case, the order of magnitude for `BILL_AMT1` is widely different than `AGE`. We will deal with this problem by using the `normalize` parameter in setup. <br/>\n",
    "<br/>\n",
    "- **Distribution of Feature Space:** Numeric features are not normally distributed. Look at the distributions of `LIMIT_BAL`, `BILL_AMT1` and `PAY_AMT1 ... PAY_AMT6`. A few features are also highly skewed such as `PAY_AMT1`. This may cause problems for algorithms that assume normal or approximate normal distributions of the data. Examples include Logistic Regression, Linear Discriminant Analysis (LDA) and Naive Bayes.  We will deal with this problem by using the `transformation` parameter in setup. <br/>\n",
    "<br/>\n",
    "- **Group Features:** From the data description we know that certain features are related with each other such as `BILL_AMT1 ... BILL_AMT6` and `PAY_AMT1 ... PAY_AMT6`. We will use the `group_features` parameter in setup to extract statistical information from these features.  <br/>\n",
    "<br/>\n",
    "- **Bin Numeric Features:** When looking at the correlations between the numeric features and the target variable, we that `AGE` and `LIMIT_BAL` are weak. We will use the `bin_numeric_features` parameter to remove the noise from these variables which may help linear algorithms. <br/>"
   ]
  },
  {
   "cell_type": "code",
   "execution_count": 3,
   "metadata": {
    "colab": {},
    "colab_type": "code",
    "id": "HuMuCeN44EhL",
    "outputId": "9d6210f4-d8e2-45ac-d92a-1b939220c02a"
   },
   "outputs": [
    {
     "data": {
      "text/plain": [
       "(24000, 24)"
      ]
     },
     "execution_count": 3,
     "metadata": {},
     "output_type": "execute_result"
    }
   ],
   "source": [
    "#check the shape of data\n",
    "dataset.shape"
   ]
  },
  {
   "cell_type": "markdown",
   "metadata": {
    "colab_type": "text",
    "id": "WHyZrNCX4EhZ"
   },
   "source": [
    "In order to demonstrate the `predict_model()` function on unseen data, a sample of 1200 rows has been withheld from the original dataset to be used for predictions. This should not be confused with a train/test split as this particular split is performed to simulate a real life scenario. Another way to think about this is that these 1200 records were not available at the time when the machine learning experiment was performed."
   ]
  },
  {
   "cell_type": "code",
   "execution_count": 4,
   "metadata": {
    "colab": {},
    "colab_type": "code",
    "id": "yYoi1mdi4Ehk",
    "outputId": "bd125cbe-1ea7-4f25-af39-e4d10e53e8ac"
   },
   "outputs": [
    {
     "name": "stdout",
     "output_type": "stream",
     "text": [
      "Data for Modeling: (22800, 24)\n",
      "Unseen Data For Predictions (1200, 24)\n"
     ]
    }
   ],
   "source": [
    "data = dataset.sample(frac=0.95, random_state=786)\n",
    "data_unseen = dataset.drop(data.index)\n",
    "\n",
    "data.reset_index(inplace=True, drop=True)\n",
    "data_unseen.reset_index(inplace=True, drop=True)\n",
    "\n",
    "print('Data for Modeling: ' + str(data.shape))\n",
    "print('Unseen Data For Predictions ' + str(data_unseen.shape))"
   ]
  },
  {
   "cell_type": "code",
   "execution_count": 5,
   "metadata": {},
   "outputs": [
    {
     "data": {
      "text/plain": [
       "4992     0\n",
       "19731    0\n",
       "12680    0\n",
       "7342     0\n",
       "2826     0\n",
       "Name: default, dtype: int64"
      ]
     },
     "execution_count": 5,
     "metadata": {},
     "output_type": "execute_result"
    }
   ],
   "source": [
    "data[\"default\"].sample(5)"
   ]
  },
  {
   "cell_type": "code",
   "execution_count": 6,
   "metadata": {},
   "outputs": [],
   "source": [
    "zeros = data[data.default==0].sample(frac=0.3)\n",
    "data = data[data.default==1]\n",
    "data = pd.concat([data,zeros])"
   ]
  },
  {
   "cell_type": "markdown",
   "metadata": {
    "colab_type": "text",
    "id": "GlddJmh74Eh4"
   },
   "source": [
    "## 1. Problem Definition"
   ]
  },
  {
   "cell_type": "code",
   "execution_count": 7,
   "metadata": {},
   "outputs": [],
   "source": [
    "from pycaret.classification import (\n",
    "    setup, \n",
    "    compare_models,\n",
    "    create_model,\n",
    "    tune_model,\n",
    "    plot_model,\n",
    "    finalize_model,\n",
    "    save_model,\n",
    "    load_model, \n",
    "    predict_model\n",
    ")"
   ]
  },
  {
   "cell_type": "code",
   "execution_count": 25,
   "metadata": {},
   "outputs": [],
   "source": [
    "model = setup(\n",
    "    \n",
    "    # Basic options\n",
    "    data = data,\n",
    "    target = \"default\",\n",
    "    preprocess = False,\n",
    "    train_size = 0.7,\n",
    "    test_data = None,\n",
    "        \n",
    "    # Variable type definition\n",
    "    categorical_features = None,\n",
    "    numeric_features = None,\n",
    "    date_features = None,\n",
    "    ignore_features = None,\n",
    "    \n",
    "    # Dealing with missing values\n",
    "    imputation_type = 'simple',\n",
    "    iterative_imputation_iters = 5,\n",
    "    categorical_imputation = 'constant',\n",
    "    categorical_iterative_imputer = 'lightgbm',\n",
    "    ordinal_features = None,\n",
    "    #high_cardinality_features = None,\n",
    "    #high_cardinality_method = 'frequency',\n",
    "    numeric_imputation = 'mean',\n",
    "    numeric_iterative_imputer = 'lightgbm',\n",
    "    \n",
    "    # Feature normalization\n",
    "    normalize = False,\n",
    "    normalize_method = 'zscore',\n",
    "    \n",
    "    # Apply transformations to variables\n",
    "    transformation = False,\n",
    "    transformation_method = 'yeo-johnson',\n",
    "    #handle_unknown_categorical = True,\n",
    "    #unknown_categorical_method = 'least_frequent',\n",
    "    \n",
    "    # Dimensioanlity reduction\n",
    "    pca = False,\n",
    "    pca_method = 'linear',\n",
    "    pca_components = None,\n",
    "    #ignore_low_variance = False,\n",
    "    #combine_rare_levels = False,\n",
    "    #rare_level_threshold = 0.1,\n",
    "    bin_numeric_features = ['LIMIT_BAL', 'AGE'],\n",
    "    \n",
    "    # Outlier removal\n",
    "    remove_outliers = False,\n",
    "    outliers_threshold = 0.05,\n",
    "    \n",
    "    # Dealing with collinearity \n",
    "    remove_multicollinearity = False,\n",
    "    multicollinearity_threshold = 0.9,\n",
    "    #remove_perfect_collinearity = True,\n",
    "    #create_clusters = False,\n",
    "    #cluster_iter = 20,\n",
    "    \n",
    "    # Derived features generation\n",
    "    polynomial_features = False,\n",
    "    polynomial_degree = 2,\n",
    "    #trigonometry_features = False,\n",
    "    #polynomial_threshold = 0.1,\n",
    "    group_features = None,\n",
    "    group_names = None,\n",
    "    \n",
    "    # Feature selection\n",
    "    feature_selection = False,\n",
    "    #feature_selection_threshold = 0.8,\n",
    "    feature_selection_method = 'classic',\n",
    "    #feature_interaction = False,\n",
    "    #feature_ratio = False,\n",
    "    #interaction_threshold = 0.01,\n",
    "    \n",
    "    # Class unbalance\n",
    "    fix_imbalance = False,\n",
    "    fix_imbalance_method = None,\n",
    "    \n",
    "    # Cross-validation settings\n",
    "    data_split_shuffle = True,\n",
    "    data_split_stratify = False,\n",
    "    fold_strategy = 'kfold',\n",
    "    fold = 10,\n",
    "    fold_shuffle = True,\n",
    "    fold_groups = None,\n",
    "    \n",
    "    # Paralellization options\n",
    "    n_jobs = - 1,\n",
    "    use_gpu = False,\n",
    "    \n",
    "    # Here you can include your custom sklearn Pipeline\n",
    "    custom_pipeline = None,\n",
    "    \n",
    "    # MLFlow experiments registry\n",
    "    log_experiment = False,\n",
    "    experiment_name = None,\n",
    "    log_plots = False,\n",
    "    log_profile = False,\n",
    "    log_data = False,\n",
    "    \n",
    "    # Logging options\n",
    "    #silent = False,\n",
    "    verbose = True,\n",
    "    \n",
    "    # Do a profiling with Pandas Profiling\n",
    "    profile = False,\n",
    "    profile_kwargs = None,\n",
    "    \n",
    "    html = True,\n",
    "    session_id = None\n",
    ")"
   ]
  },
  {
   "cell_type": "markdown",
   "metadata": {
    "colab_type": "text",
    "id": "B4o2brP84Eih"
   },
   "source": [
    "## 2. Compare models"
   ]
  },
  {
   "cell_type": "markdown",
   "metadata": {},
   "source": [
    "```python\n",
    "compare_models(\n",
    "    include = None,\n",
    "    exclude = None,\n",
    "    fold = None,\n",
    "    round = 4,\n",
    "    cross_validation = True,\n",
    "    sort = 'Accuracy',\n",
    "    n_select = 1,\n",
    "    budget_time = None,\n",
    "    turbo = True,\n",
    "    errors = 'ignore',\n",
    "    fit_kwargs = None,\n",
    "    groups = None,\n",
    "    probability_threshold = None,\n",
    "    verbose = True\n",
    ")\n",
    "```"
   ]
  },
  {
   "cell_type": "code",
   "execution_count": 26,
   "metadata": {
    "colab": {},
    "colab_type": "code",
    "id": "ARFsODlw4Eiq",
    "outputId": "09c08c76-9099-425b-97eb-9bf5044805da",
    "tags": []
   },
   "outputs": [],
   "source": [
    "models = compare_models(sort=\"AUC\", fold=5)\n",
    "\n",
    "# probability_threshold\n",
    "# budget_time"
   ]
  },
  {
   "cell_type": "code",
   "execution_count": 27,
   "metadata": {},
   "outputs": [
    {
     "data": {
      "text/html": [
       "<style>#sk-container-id-1 {color: black;background-color: white;}#sk-container-id-1 pre{padding: 0;}#sk-container-id-1 div.sk-toggleable {background-color: white;}#sk-container-id-1 label.sk-toggleable__label {cursor: pointer;display: block;width: 100%;margin-bottom: 0;padding: 0.3em;box-sizing: border-box;text-align: center;}#sk-container-id-1 label.sk-toggleable__label-arrow:before {content: \"▸\";float: left;margin-right: 0.25em;color: #696969;}#sk-container-id-1 label.sk-toggleable__label-arrow:hover:before {color: black;}#sk-container-id-1 div.sk-estimator:hover label.sk-toggleable__label-arrow:before {color: black;}#sk-container-id-1 div.sk-toggleable__content {max-height: 0;max-width: 0;overflow: hidden;text-align: left;background-color: #f0f8ff;}#sk-container-id-1 div.sk-toggleable__content pre {margin: 0.2em;color: black;border-radius: 0.25em;background-color: #f0f8ff;}#sk-container-id-1 input.sk-toggleable__control:checked~div.sk-toggleable__content {max-height: 200px;max-width: 100%;overflow: auto;}#sk-container-id-1 input.sk-toggleable__control:checked~label.sk-toggleable__label-arrow:before {content: \"▾\";}#sk-container-id-1 div.sk-estimator input.sk-toggleable__control:checked~label.sk-toggleable__label {background-color: #d4ebff;}#sk-container-id-1 div.sk-label input.sk-toggleable__control:checked~label.sk-toggleable__label {background-color: #d4ebff;}#sk-container-id-1 input.sk-hidden--visually {border: 0;clip: rect(1px 1px 1px 1px);clip: rect(1px, 1px, 1px, 1px);height: 1px;margin: -1px;overflow: hidden;padding: 0;position: absolute;width: 1px;}#sk-container-id-1 div.sk-estimator {font-family: monospace;background-color: #f0f8ff;border: 1px dotted black;border-radius: 0.25em;box-sizing: border-box;margin-bottom: 0.5em;}#sk-container-id-1 div.sk-estimator:hover {background-color: #d4ebff;}#sk-container-id-1 div.sk-parallel-item::after {content: \"\";width: 100%;border-bottom: 1px solid gray;flex-grow: 1;}#sk-container-id-1 div.sk-label:hover label.sk-toggleable__label {background-color: #d4ebff;}#sk-container-id-1 div.sk-serial::before {content: \"\";position: absolute;border-left: 1px solid gray;box-sizing: border-box;top: 0;bottom: 0;left: 50%;z-index: 0;}#sk-container-id-1 div.sk-serial {display: flex;flex-direction: column;align-items: center;background-color: white;padding-right: 0.2em;padding-left: 0.2em;position: relative;}#sk-container-id-1 div.sk-item {position: relative;z-index: 1;}#sk-container-id-1 div.sk-parallel {display: flex;align-items: stretch;justify-content: center;background-color: white;position: relative;}#sk-container-id-1 div.sk-item::before, #sk-container-id-1 div.sk-parallel-item::before {content: \"\";position: absolute;border-left: 1px solid gray;box-sizing: border-box;top: 0;bottom: 0;left: 50%;z-index: -1;}#sk-container-id-1 div.sk-parallel-item {display: flex;flex-direction: column;z-index: 1;position: relative;background-color: white;}#sk-container-id-1 div.sk-parallel-item:first-child::after {align-self: flex-end;width: 50%;}#sk-container-id-1 div.sk-parallel-item:last-child::after {align-self: flex-start;width: 50%;}#sk-container-id-1 div.sk-parallel-item:only-child::after {width: 0;}#sk-container-id-1 div.sk-dashed-wrapped {border: 1px dashed gray;margin: 0 0.4em 0.5em 0.4em;box-sizing: border-box;padding-bottom: 0.4em;background-color: white;}#sk-container-id-1 div.sk-label label {font-family: monospace;font-weight: bold;display: inline-block;line-height: 1.2em;}#sk-container-id-1 div.sk-label-container {text-align: center;}#sk-container-id-1 div.sk-container {/* jupyter's `normalize.less` sets `[hidden] { display: none; }` but bootstrap.min.css set `[hidden] { display: none !important; }` so we also need the `!important` here to be able to override the default hidden behavior on the sphinx rendered scikit-learn.org. See: https://github.com/scikit-learn/scikit-learn/issues/21755 */display: inline-block !important;position: relative;}#sk-container-id-1 div.sk-text-repr-fallback {display: none;}</style><div id=\"sk-container-id-1\" class=\"sk-top-container\"><div class=\"sk-text-repr-fallback\"><pre>GradientBoostingClassifier(ccp_alpha=0.0, criterion=&#x27;friedman_mse&#x27;, init=None,\n",
       "                           learning_rate=0.1, loss=&#x27;log_loss&#x27;, max_depth=3,\n",
       "                           max_features=None, max_leaf_nodes=None,\n",
       "                           min_impurity_decrease=0.0, min_samples_leaf=1,\n",
       "                           min_samples_split=2, min_weight_fraction_leaf=0.0,\n",
       "                           n_estimators=100, n_iter_no_change=None,\n",
       "                           random_state=1308, subsample=1.0, tol=0.0001,\n",
       "                           validation_fraction=0.1, verbose=0,\n",
       "                           warm_start=False)</pre><b>In a Jupyter environment, please rerun this cell to show the HTML representation or trust the notebook. <br />On GitHub, the HTML representation is unable to render, please try loading this page with nbviewer.org.</b></div><div class=\"sk-container\" hidden><div class=\"sk-item\"><div class=\"sk-estimator sk-toggleable\"><input class=\"sk-toggleable__control sk-hidden--visually\" id=\"sk-estimator-id-1\" type=\"checkbox\" checked><label for=\"sk-estimator-id-1\" class=\"sk-toggleable__label sk-toggleable__label-arrow\">GradientBoostingClassifier</label><div class=\"sk-toggleable__content\"><pre>GradientBoostingClassifier(ccp_alpha=0.0, criterion=&#x27;friedman_mse&#x27;, init=None,\n",
       "                           learning_rate=0.1, loss=&#x27;log_loss&#x27;, max_depth=3,\n",
       "                           max_features=None, max_leaf_nodes=None,\n",
       "                           min_impurity_decrease=0.0, min_samples_leaf=1,\n",
       "                           min_samples_split=2, min_weight_fraction_leaf=0.0,\n",
       "                           n_estimators=100, n_iter_no_change=None,\n",
       "                           random_state=1308, subsample=1.0, tol=0.0001,\n",
       "                           validation_fraction=0.1, verbose=0,\n",
       "                           warm_start=False)</pre></div></div></div></div></div>"
      ],
      "text/plain": [
       "GradientBoostingClassifier(ccp_alpha=0.0, criterion='friedman_mse', init=None,\n",
       "                           learning_rate=0.1, loss='log_loss', max_depth=3,\n",
       "                           max_features=None, max_leaf_nodes=None,\n",
       "                           min_impurity_decrease=0.0, min_samples_leaf=1,\n",
       "                           min_samples_split=2, min_weight_fraction_leaf=0.0,\n",
       "                           n_estimators=100, n_iter_no_change=None,\n",
       "                           random_state=1308, subsample=1.0, tol=0.0001,\n",
       "                           validation_fraction=0.1, verbose=0,\n",
       "                           warm_start=False)"
      ]
     },
     "execution_count": 27,
     "metadata": {},
     "output_type": "execute_result"
    }
   ],
   "source": [
    "models"
   ]
  },
  {
   "cell_type": "markdown",
   "metadata": {
    "colab_type": "text",
    "id": "QxHq04mC4EjB"
   },
   "source": [
    "## Create a model"
   ]
  },
  {
   "cell_type": "markdown",
   "metadata": {},
   "source": [
    "```python\n",
    "create_model(\n",
    "    estimator = \"gbc\",\n",
    "    fold = None,\n",
    "    round = 4,\n",
    "    cross_validation = True,\n",
    "    fit_kwargs = None,\n",
    "    groups = None,\n",
    "    probability_threshold = None,\n",
    "    verbose True\n",
    ")\n",
    "```"
   ]
  },
  {
   "cell_type": "code",
   "execution_count": 28,
   "metadata": {
    "colab": {},
    "colab_type": "code",
    "id": "Mt7h_Ds24EjN",
    "outputId": "79a6681f-53b0-4446-a8d5-b57d725b0bbc",
    "tags": []
   },
   "outputs": [
    {
     "data": {
      "text/html": [
       "<div>\n",
       "<style scoped>\n",
       "    .dataframe tbody tr th:only-of-type {\n",
       "        vertical-align: middle;\n",
       "    }\n",
       "\n",
       "    .dataframe tbody tr th {\n",
       "        vertical-align: top;\n",
       "    }\n",
       "\n",
       "    .dataframe thead th {\n",
       "        text-align: right;\n",
       "    }\n",
       "</style>\n",
       "<table border=\"1\" class=\"dataframe\">\n",
       "  <thead>\n",
       "    <tr style=\"text-align: right;\">\n",
       "      <th></th>\n",
       "      <th></th>\n",
       "      <th></th>\n",
       "    </tr>\n",
       "    <tr>\n",
       "      <th></th>\n",
       "      <th></th>\n",
       "      <th></th>\n",
       "    </tr>\n",
       "  </thead>\n",
       "  <tbody>\n",
       "    <tr>\n",
       "      <th>Initiated</th>\n",
       "      <td>. . . . . . . . . . . . . . . . . .</td>\n",
       "      <td>18:29:48</td>\n",
       "    </tr>\n",
       "    <tr>\n",
       "      <th>Status</th>\n",
       "      <td>. . . . . . . . . . . . . . . . . .</td>\n",
       "      <td>Fitting 5 Folds</td>\n",
       "    </tr>\n",
       "    <tr>\n",
       "      <th>Estimator</th>\n",
       "      <td>. . . . . . . . . . . . . . . . . .</td>\n",
       "      <td>Gradient Boosting Classifier</td>\n",
       "    </tr>\n",
       "  </tbody>\n",
       "</table>\n",
       "</div>"
      ],
      "text/plain": [
       "                                                                            \n",
       "                                                                            \n",
       "Initiated  . . . . . . . . . . . . . . . . . .                      18:29:48\n",
       "Status     . . . . . . . . . . . . . . . . . .               Fitting 5 Folds\n",
       "Estimator  . . . . . . . . . . . . . . . . . .  Gradient Boosting Classifier"
      ]
     },
     "metadata": {},
     "output_type": "display_data"
    },
    {
     "data": {
      "text/html": [
       "<style type=\"text/css\">\n",
       "#T_63f75_row5_col0, #T_63f75_row5_col1, #T_63f75_row5_col2, #T_63f75_row5_col3, #T_63f75_row5_col4, #T_63f75_row5_col5, #T_63f75_row5_col6 {\n",
       "  background: yellow;\n",
       "}\n",
       "</style>\n",
       "<table id=\"T_63f75\">\n",
       "  <thead>\n",
       "    <tr>\n",
       "      <th class=\"blank level0\" >&nbsp;</th>\n",
       "      <th id=\"T_63f75_level0_col0\" class=\"col_heading level0 col0\" >Accuracy</th>\n",
       "      <th id=\"T_63f75_level0_col1\" class=\"col_heading level0 col1\" >AUC</th>\n",
       "      <th id=\"T_63f75_level0_col2\" class=\"col_heading level0 col2\" >Recall</th>\n",
       "      <th id=\"T_63f75_level0_col3\" class=\"col_heading level0 col3\" >Prec.</th>\n",
       "      <th id=\"T_63f75_level0_col4\" class=\"col_heading level0 col4\" >F1</th>\n",
       "      <th id=\"T_63f75_level0_col5\" class=\"col_heading level0 col5\" >Kappa</th>\n",
       "      <th id=\"T_63f75_level0_col6\" class=\"col_heading level0 col6\" >MCC</th>\n",
       "    </tr>\n",
       "    <tr>\n",
       "      <th class=\"index_name level0\" >Fold</th>\n",
       "      <th class=\"blank col0\" >&nbsp;</th>\n",
       "      <th class=\"blank col1\" >&nbsp;</th>\n",
       "      <th class=\"blank col2\" >&nbsp;</th>\n",
       "      <th class=\"blank col3\" >&nbsp;</th>\n",
       "      <th class=\"blank col4\" >&nbsp;</th>\n",
       "      <th class=\"blank col5\" >&nbsp;</th>\n",
       "      <th class=\"blank col6\" >&nbsp;</th>\n",
       "    </tr>\n",
       "  </thead>\n",
       "  <tbody>\n",
       "    <tr>\n",
       "      <th id=\"T_63f75_level0_row0\" class=\"row_heading level0 row0\" >0</th>\n",
       "      <td id=\"T_63f75_row0_col0\" class=\"data row0 col0\" >0.7101</td>\n",
       "      <td id=\"T_63f75_row0_col1\" class=\"data row0 col1\" >0.7715</td>\n",
       "      <td id=\"T_63f75_row0_col2\" class=\"data row0 col2\" >0.6296</td>\n",
       "      <td id=\"T_63f75_row0_col3\" class=\"data row0 col3\" >0.7330</td>\n",
       "      <td id=\"T_63f75_row0_col4\" class=\"data row0 col4\" >0.6774</td>\n",
       "      <td id=\"T_63f75_row0_col5\" class=\"data row0 col5\" >0.4168</td>\n",
       "      <td id=\"T_63f75_row0_col6\" class=\"data row0 col6\" >0.4208</td>\n",
       "    </tr>\n",
       "    <tr>\n",
       "      <th id=\"T_63f75_level0_row1\" class=\"row_heading level0 row1\" >1</th>\n",
       "      <td id=\"T_63f75_row1_col0\" class=\"data row1 col0\" >0.7197</td>\n",
       "      <td id=\"T_63f75_row1_col1\" class=\"data row1 col1\" >0.7866</td>\n",
       "      <td id=\"T_63f75_row1_col2\" class=\"data row1 col2\" >0.6424</td>\n",
       "      <td id=\"T_63f75_row1_col3\" class=\"data row1 col3\" >0.7330</td>\n",
       "      <td id=\"T_63f75_row1_col4\" class=\"data row1 col4\" >0.6847</td>\n",
       "      <td id=\"T_63f75_row1_col5\" class=\"data row1 col5\" >0.4344</td>\n",
       "      <td id=\"T_63f75_row1_col6\" class=\"data row1 col6\" >0.4374</td>\n",
       "    </tr>\n",
       "    <tr>\n",
       "      <th id=\"T_63f75_level0_row2\" class=\"row_heading level0 row2\" >2</th>\n",
       "      <td id=\"T_63f75_row2_col0\" class=\"data row2 col0\" >0.6949</td>\n",
       "      <td id=\"T_63f75_row2_col1\" class=\"data row2 col1\" >0.7619</td>\n",
       "      <td id=\"T_63f75_row2_col2\" class=\"data row2 col2\" >0.6166</td>\n",
       "      <td id=\"T_63f75_row2_col3\" class=\"data row2 col3\" >0.7015</td>\n",
       "      <td id=\"T_63f75_row2_col4\" class=\"data row2 col4\" >0.6563</td>\n",
       "      <td id=\"T_63f75_row2_col5\" class=\"data row2 col5\" >0.3841</td>\n",
       "      <td id=\"T_63f75_row2_col6\" class=\"data row2 col6\" >0.3866</td>\n",
       "    </tr>\n",
       "    <tr>\n",
       "      <th id=\"T_63f75_level0_row3\" class=\"row_heading level0 row3\" >3</th>\n",
       "      <td id=\"T_63f75_row3_col0\" class=\"data row3 col0\" >0.7167</td>\n",
       "      <td id=\"T_63f75_row3_col1\" class=\"data row3 col1\" >0.7773</td>\n",
       "      <td id=\"T_63f75_row3_col2\" class=\"data row3 col2\" >0.6375</td>\n",
       "      <td id=\"T_63f75_row3_col3\" class=\"data row3 col3\" >0.7537</td>\n",
       "      <td id=\"T_63f75_row3_col4\" class=\"data row3 col4\" >0.6907</td>\n",
       "      <td id=\"T_63f75_row3_col5\" class=\"data row3 col5\" >0.4328</td>\n",
       "      <td id=\"T_63f75_row3_col6\" class=\"data row3 col6\" >0.4380</td>\n",
       "    </tr>\n",
       "    <tr>\n",
       "      <th id=\"T_63f75_level0_row4\" class=\"row_heading level0 row4\" >4</th>\n",
       "      <td id=\"T_63f75_row4_col0\" class=\"data row4 col0\" >0.7126</td>\n",
       "      <td id=\"T_63f75_row4_col1\" class=\"data row4 col1\" >0.7761</td>\n",
       "      <td id=\"T_63f75_row4_col2\" class=\"data row4 col2\" >0.6073</td>\n",
       "      <td id=\"T_63f75_row4_col3\" class=\"data row4 col3\" >0.7774</td>\n",
       "      <td id=\"T_63f75_row4_col4\" class=\"data row4 col4\" >0.6819</td>\n",
       "      <td id=\"T_63f75_row4_col5\" class=\"data row4 col5\" >0.4269</td>\n",
       "      <td id=\"T_63f75_row4_col6\" class=\"data row4 col6\" >0.4378</td>\n",
       "    </tr>\n",
       "    <tr>\n",
       "      <th id=\"T_63f75_level0_row5\" class=\"row_heading level0 row5\" >Mean</th>\n",
       "      <td id=\"T_63f75_row5_col0\" class=\"data row5 col0\" >0.7108</td>\n",
       "      <td id=\"T_63f75_row5_col1\" class=\"data row5 col1\" >0.7747</td>\n",
       "      <td id=\"T_63f75_row5_col2\" class=\"data row5 col2\" >0.6267</td>\n",
       "      <td id=\"T_63f75_row5_col3\" class=\"data row5 col3\" >0.7397</td>\n",
       "      <td id=\"T_63f75_row5_col4\" class=\"data row5 col4\" >0.6782</td>\n",
       "      <td id=\"T_63f75_row5_col5\" class=\"data row5 col5\" >0.4190</td>\n",
       "      <td id=\"T_63f75_row5_col6\" class=\"data row5 col6\" >0.4241</td>\n",
       "    </tr>\n",
       "    <tr>\n",
       "      <th id=\"T_63f75_level0_row6\" class=\"row_heading level0 row6\" >Std</th>\n",
       "      <td id=\"T_63f75_row6_col0\" class=\"data row6 col0\" >0.0086</td>\n",
       "      <td id=\"T_63f75_row6_col1\" class=\"data row6 col1\" >0.0081</td>\n",
       "      <td id=\"T_63f75_row6_col2\" class=\"data row6 col2\" >0.0130</td>\n",
       "      <td id=\"T_63f75_row6_col3\" class=\"data row6 col3\" >0.0252</td>\n",
       "      <td id=\"T_63f75_row6_col4\" class=\"data row6 col4\" >0.0118</td>\n",
       "      <td id=\"T_63f75_row6_col5\" class=\"data row6 col5\" >0.0185</td>\n",
       "      <td id=\"T_63f75_row6_col6\" class=\"data row6 col6\" >0.0199</td>\n",
       "    </tr>\n",
       "  </tbody>\n",
       "</table>\n"
      ],
      "text/plain": [
       "<pandas.io.formats.style.Styler at 0x242c02f4d60>"
      ]
     },
     "metadata": {},
     "output_type": "display_data"
    },
    {
     "data": {
      "application/vnd.jupyter.widget-view+json": {
       "model_id": "01d44c06b4ac49be8ffef7f4cb7d2750",
       "version_major": 2,
       "version_minor": 0
      },
      "text/plain": [
       "Processing:   0%|          | 0/4 [00:00<?, ?it/s]"
      ]
     },
     "metadata": {},
     "output_type": "display_data"
    }
   ],
   "source": [
    "clf = create_model(models, fold=5)"
   ]
  },
  {
   "cell_type": "markdown",
   "metadata": {
    "colab_type": "text",
    "id": "n_Hp176K4Ejw"
   },
   "source": [
    "## 4. Optimize a model"
   ]
  },
  {
   "cell_type": "markdown",
   "metadata": {},
   "source": [
    "```python\n",
    "tune_model(\n",
    "    estimator,\n",
    "    fold = None,\n",
    "    round = 4,\n",
    "    n_iter = 10,\n",
    "    custom_grid = None,\n",
    "    optimize = 'Accuracy',\n",
    "    custom_scorer = None,\n",
    "    search_library 'scikit-learn',\n",
    "    search_algorithm = None,\n",
    "    early_stopping False,\n",
    "    early_stopping_max_iters = 10,\n",
    "    choose_better = False,\n",
    "    fit_kwargs = None,\n",
    "    groups = None,\n",
    "    return_tuner = False,\n",
    "    verbose = True,\n",
    "    tuner_verbose = True\n",
    ")\n",
    "```"
   ]
  },
  {
   "cell_type": "code",
   "execution_count": 29,
   "metadata": {
    "colab": {},
    "colab_type": "code",
    "id": "PYn9xux-4Ej7",
    "outputId": "19de0001-2b95-42c5-bc5c-517e3ed909ac",
    "tags": []
   },
   "outputs": [
    {
     "data": {
      "text/html": [
       "<div>\n",
       "<style scoped>\n",
       "    .dataframe tbody tr th:only-of-type {\n",
       "        vertical-align: middle;\n",
       "    }\n",
       "\n",
       "    .dataframe tbody tr th {\n",
       "        vertical-align: top;\n",
       "    }\n",
       "\n",
       "    .dataframe thead th {\n",
       "        text-align: right;\n",
       "    }\n",
       "</style>\n",
       "<table border=\"1\" class=\"dataframe\">\n",
       "  <thead>\n",
       "    <tr style=\"text-align: right;\">\n",
       "      <th></th>\n",
       "      <th></th>\n",
       "      <th></th>\n",
       "    </tr>\n",
       "    <tr>\n",
       "      <th></th>\n",
       "      <th></th>\n",
       "      <th></th>\n",
       "    </tr>\n",
       "  </thead>\n",
       "  <tbody>\n",
       "    <tr>\n",
       "      <th>Initiated</th>\n",
       "      <td>. . . . . . . . . . . . . . . . . .</td>\n",
       "      <td>18:29:55</td>\n",
       "    </tr>\n",
       "    <tr>\n",
       "      <th>Status</th>\n",
       "      <td>. . . . . . . . . . . . . . . . . .</td>\n",
       "      <td>Searching Hyperparameters</td>\n",
       "    </tr>\n",
       "    <tr>\n",
       "      <th>Estimator</th>\n",
       "      <td>. . . . . . . . . . . . . . . . . .</td>\n",
       "      <td>Gradient Boosting Classifier</td>\n",
       "    </tr>\n",
       "  </tbody>\n",
       "</table>\n",
       "</div>"
      ],
      "text/plain": [
       "                                                                            \n",
       "                                                                            \n",
       "Initiated  . . . . . . . . . . . . . . . . . .                      18:29:55\n",
       "Status     . . . . . . . . . . . . . . . . . .     Searching Hyperparameters\n",
       "Estimator  . . . . . . . . . . . . . . . . . .  Gradient Boosting Classifier"
      ]
     },
     "metadata": {},
     "output_type": "display_data"
    },
    {
     "data": {
      "text/html": [
       "<style type=\"text/css\">\n",
       "#T_41b70_row10_col0, #T_41b70_row10_col1, #T_41b70_row10_col2, #T_41b70_row10_col3, #T_41b70_row10_col4, #T_41b70_row10_col5, #T_41b70_row10_col6 {\n",
       "  background: yellow;\n",
       "}\n",
       "</style>\n",
       "<table id=\"T_41b70\">\n",
       "  <thead>\n",
       "    <tr>\n",
       "      <th class=\"blank level0\" >&nbsp;</th>\n",
       "      <th id=\"T_41b70_level0_col0\" class=\"col_heading level0 col0\" >Accuracy</th>\n",
       "      <th id=\"T_41b70_level0_col1\" class=\"col_heading level0 col1\" >AUC</th>\n",
       "      <th id=\"T_41b70_level0_col2\" class=\"col_heading level0 col2\" >Recall</th>\n",
       "      <th id=\"T_41b70_level0_col3\" class=\"col_heading level0 col3\" >Prec.</th>\n",
       "      <th id=\"T_41b70_level0_col4\" class=\"col_heading level0 col4\" >F1</th>\n",
       "      <th id=\"T_41b70_level0_col5\" class=\"col_heading level0 col5\" >Kappa</th>\n",
       "      <th id=\"T_41b70_level0_col6\" class=\"col_heading level0 col6\" >MCC</th>\n",
       "    </tr>\n",
       "    <tr>\n",
       "      <th class=\"index_name level0\" >Fold</th>\n",
       "      <th class=\"blank col0\" >&nbsp;</th>\n",
       "      <th class=\"blank col1\" >&nbsp;</th>\n",
       "      <th class=\"blank col2\" >&nbsp;</th>\n",
       "      <th class=\"blank col3\" >&nbsp;</th>\n",
       "      <th class=\"blank col4\" >&nbsp;</th>\n",
       "      <th class=\"blank col5\" >&nbsp;</th>\n",
       "      <th class=\"blank col6\" >&nbsp;</th>\n",
       "    </tr>\n",
       "  </thead>\n",
       "  <tbody>\n",
       "    <tr>\n",
       "      <th id=\"T_41b70_level0_row0\" class=\"row_heading level0 row0\" >0</th>\n",
       "      <td id=\"T_41b70_row0_col0\" class=\"data row0 col0\" >0.7094</td>\n",
       "      <td id=\"T_41b70_row0_col1\" class=\"data row0 col1\" >0.7739</td>\n",
       "      <td id=\"T_41b70_row0_col2\" class=\"data row0 col2\" >0.5594</td>\n",
       "      <td id=\"T_41b70_row0_col3\" class=\"data row0 col3\" >0.7659</td>\n",
       "      <td id=\"T_41b70_row0_col4\" class=\"data row0 col4\" >0.6466</td>\n",
       "      <td id=\"T_41b70_row0_col5\" class=\"data row0 col5\" >0.4098</td>\n",
       "      <td id=\"T_41b70_row0_col6\" class=\"data row0 col6\" >0.4244</td>\n",
       "    </tr>\n",
       "    <tr>\n",
       "      <th id=\"T_41b70_level0_row1\" class=\"row_heading level0 row1\" >1</th>\n",
       "      <td id=\"T_41b70_row1_col0\" class=\"data row1 col0\" >0.7039</td>\n",
       "      <td id=\"T_41b70_row1_col1\" class=\"data row1 col1\" >0.7805</td>\n",
       "      <td id=\"T_41b70_row1_col2\" class=\"data row1 col2\" >0.4958</td>\n",
       "      <td id=\"T_41b70_row1_col3\" class=\"data row1 col3\" >0.8349</td>\n",
       "      <td id=\"T_41b70_row1_col4\" class=\"data row1 col4\" >0.6221</td>\n",
       "      <td id=\"T_41b70_row1_col5\" class=\"data row1 col5\" >0.4036</td>\n",
       "      <td id=\"T_41b70_row1_col6\" class=\"data row1 col6\" >0.4408</td>\n",
       "    </tr>\n",
       "    <tr>\n",
       "      <th id=\"T_41b70_level0_row2\" class=\"row_heading level0 row2\" >2</th>\n",
       "      <td id=\"T_41b70_row2_col0\" class=\"data row2 col0\" >0.7039</td>\n",
       "      <td id=\"T_41b70_row2_col1\" class=\"data row2 col1\" >0.7683</td>\n",
       "      <td id=\"T_41b70_row2_col2\" class=\"data row2 col2\" >0.5234</td>\n",
       "      <td id=\"T_41b70_row2_col3\" class=\"data row2 col3\" >0.7749</td>\n",
       "      <td id=\"T_41b70_row2_col4\" class=\"data row2 col4\" >0.6248</td>\n",
       "      <td id=\"T_41b70_row2_col5\" class=\"data row2 col5\" >0.3950</td>\n",
       "      <td id=\"T_41b70_row2_col6\" class=\"data row2 col6\" >0.4158</td>\n",
       "    </tr>\n",
       "    <tr>\n",
       "      <th id=\"T_41b70_level0_row3\" class=\"row_heading level0 row3\" >3</th>\n",
       "      <td id=\"T_41b70_row3_col0\" class=\"data row3 col0\" >0.7355</td>\n",
       "      <td id=\"T_41b70_row3_col1\" class=\"data row3 col1\" >0.7871</td>\n",
       "      <td id=\"T_41b70_row3_col2\" class=\"data row3 col2\" >0.5780</td>\n",
       "      <td id=\"T_41b70_row3_col3\" class=\"data row3 col3\" >0.8130</td>\n",
       "      <td id=\"T_41b70_row3_col4\" class=\"data row3 col4\" >0.6757</td>\n",
       "      <td id=\"T_41b70_row3_col5\" class=\"data row3 col5\" >0.4630</td>\n",
       "      <td id=\"T_41b70_row3_col6\" class=\"data row3 col6\" >0.4822</td>\n",
       "    </tr>\n",
       "    <tr>\n",
       "      <th id=\"T_41b70_level0_row4\" class=\"row_heading level0 row4\" >4</th>\n",
       "      <td id=\"T_41b70_row4_col0\" class=\"data row4 col0\" >0.7218</td>\n",
       "      <td id=\"T_41b70_row4_col1\" class=\"data row4 col1\" >0.7713</td>\n",
       "      <td id=\"T_41b70_row4_col2\" class=\"data row4 col2\" >0.5616</td>\n",
       "      <td id=\"T_41b70_row4_col3\" class=\"data row4 col3\" >0.7695</td>\n",
       "      <td id=\"T_41b70_row4_col4\" class=\"data row4 col4\" >0.6493</td>\n",
       "      <td id=\"T_41b70_row4_col5\" class=\"data row4 col5\" >0.4279</td>\n",
       "      <td id=\"T_41b70_row4_col6\" class=\"data row4 col6\" >0.4425</td>\n",
       "    </tr>\n",
       "    <tr>\n",
       "      <th id=\"T_41b70_level0_row5\" class=\"row_heading level0 row5\" >5</th>\n",
       "      <td id=\"T_41b70_row5_col0\" class=\"data row5 col0\" >0.6942</td>\n",
       "      <td id=\"T_41b70_row5_col1\" class=\"data row5 col1\" >0.7623</td>\n",
       "      <td id=\"T_41b70_row5_col2\" class=\"data row5 col2\" >0.5099</td>\n",
       "      <td id=\"T_41b70_row5_col3\" class=\"data row5 col3\" >0.7860</td>\n",
       "      <td id=\"T_41b70_row5_col4\" class=\"data row5 col4\" >0.6186</td>\n",
       "      <td id=\"T_41b70_row5_col5\" class=\"data row5 col5\" >0.3821</td>\n",
       "      <td id=\"T_41b70_row5_col6\" class=\"data row5 col6\" >0.4072</td>\n",
       "    </tr>\n",
       "    <tr>\n",
       "      <th id=\"T_41b70_level0_row6\" class=\"row_heading level0 row6\" >6</th>\n",
       "      <td id=\"T_41b70_row6_col0\" class=\"data row6 col0\" >0.6956</td>\n",
       "      <td id=\"T_41b70_row6_col1\" class=\"data row6 col1\" >0.7722</td>\n",
       "      <td id=\"T_41b70_row6_col2\" class=\"data row6 col2\" >0.5352</td>\n",
       "      <td id=\"T_41b70_row6_col3\" class=\"data row6 col3\" >0.7724</td>\n",
       "      <td id=\"T_41b70_row6_col4\" class=\"data row6 col4\" >0.6323</td>\n",
       "      <td id=\"T_41b70_row6_col5\" class=\"data row6 col5\" >0.3868</td>\n",
       "      <td id=\"T_41b70_row6_col6\" class=\"data row6 col6\" >0.4058</td>\n",
       "    </tr>\n",
       "    <tr>\n",
       "      <th id=\"T_41b70_level0_row7\" class=\"row_heading level0 row7\" >7</th>\n",
       "      <td id=\"T_41b70_row7_col0\" class=\"data row7 col0\" >0.6956</td>\n",
       "      <td id=\"T_41b70_row7_col1\" class=\"data row7 col1\" >0.7837</td>\n",
       "      <td id=\"T_41b70_row7_col2\" class=\"data row7 col2\" >0.5137</td>\n",
       "      <td id=\"T_41b70_row7_col3\" class=\"data row7 col3\" >0.8139</td>\n",
       "      <td id=\"T_41b70_row7_col4\" class=\"data row7 col4\" >0.6298</td>\n",
       "      <td id=\"T_41b70_row7_col5\" class=\"data row7 col5\" >0.3930</td>\n",
       "      <td id=\"T_41b70_row7_col6\" class=\"data row7 col6\" >0.4232</td>\n",
       "    </tr>\n",
       "    <tr>\n",
       "      <th id=\"T_41b70_level0_row8\" class=\"row_heading level0 row8\" >8</th>\n",
       "      <td id=\"T_41b70_row8_col0\" class=\"data row8 col0\" >0.7090</td>\n",
       "      <td id=\"T_41b70_row8_col1\" class=\"data row8 col1\" >0.7934</td>\n",
       "      <td id=\"T_41b70_row8_col2\" class=\"data row8 col2\" >0.5043</td>\n",
       "      <td id=\"T_41b70_row8_col3\" class=\"data row8 col3\" >0.8271</td>\n",
       "      <td id=\"T_41b70_row8_col4\" class=\"data row8 col4\" >0.6265</td>\n",
       "      <td id=\"T_41b70_row8_col5\" class=\"data row8 col5\" >0.4103</td>\n",
       "      <td id=\"T_41b70_row8_col6\" class=\"data row8 col6\" >0.4441</td>\n",
       "    </tr>\n",
       "    <tr>\n",
       "      <th id=\"T_41b70_level0_row9\" class=\"row_heading level0 row9\" >9</th>\n",
       "      <td id=\"T_41b70_row9_col0\" class=\"data row9 col0\" >0.6828</td>\n",
       "      <td id=\"T_41b70_row9_col1\" class=\"data row9 col1\" >0.7678</td>\n",
       "      <td id=\"T_41b70_row9_col2\" class=\"data row9 col2\" >0.4792</td>\n",
       "      <td id=\"T_41b70_row9_col3\" class=\"data row9 col3\" >0.8598</td>\n",
       "      <td id=\"T_41b70_row9_col4\" class=\"data row9 col4\" >0.6154</td>\n",
       "      <td id=\"T_41b70_row9_col5\" class=\"data row9 col5\" >0.3806</td>\n",
       "      <td id=\"T_41b70_row9_col6\" class=\"data row9 col6\" >0.4281</td>\n",
       "    </tr>\n",
       "    <tr>\n",
       "      <th id=\"T_41b70_level0_row10\" class=\"row_heading level0 row10\" >Mean</th>\n",
       "      <td id=\"T_41b70_row10_col0\" class=\"data row10 col0\" >0.7052</td>\n",
       "      <td id=\"T_41b70_row10_col1\" class=\"data row10 col1\" >0.7760</td>\n",
       "      <td id=\"T_41b70_row10_col2\" class=\"data row10 col2\" >0.5260</td>\n",
       "      <td id=\"T_41b70_row10_col3\" class=\"data row10 col3\" >0.8017</td>\n",
       "      <td id=\"T_41b70_row10_col4\" class=\"data row10 col4\" >0.6341</td>\n",
       "      <td id=\"T_41b70_row10_col5\" class=\"data row10 col5\" >0.4052</td>\n",
       "      <td id=\"T_41b70_row10_col6\" class=\"data row10 col6\" >0.4314</td>\n",
       "    </tr>\n",
       "    <tr>\n",
       "      <th id=\"T_41b70_level0_row11\" class=\"row_heading level0 row11\" >Std</th>\n",
       "      <td id=\"T_41b70_row11_col0\" class=\"data row11 col0\" >0.0143</td>\n",
       "      <td id=\"T_41b70_row11_col1\" class=\"data row11 col1\" >0.0093</td>\n",
       "      <td id=\"T_41b70_row11_col2\" class=\"data row11 col2\" >0.0303</td>\n",
       "      <td id=\"T_41b70_row11_col3\" class=\"data row11 col3\" >0.0309</td>\n",
       "      <td id=\"T_41b70_row11_col4\" class=\"data row11 col4\" >0.0174</td>\n",
       "      <td id=\"T_41b70_row11_col5\" class=\"data row11 col5\" >0.0237</td>\n",
       "      <td id=\"T_41b70_row11_col6\" class=\"data row11 col6\" >0.0214</td>\n",
       "    </tr>\n",
       "  </tbody>\n",
       "</table>\n"
      ],
      "text/plain": [
       "<pandas.io.formats.style.Styler at 0x242bf740130>"
      ]
     },
     "metadata": {},
     "output_type": "display_data"
    },
    {
     "name": "stdout",
     "output_type": "stream",
     "text": [
      "Fitting 10 folds for each of 10 candidates, totalling 100 fits\n"
     ]
    }
   ],
   "source": [
    "tuned_clf = tune_model(clf, optimize='AUC')"
   ]
  },
  {
   "cell_type": "code",
   "execution_count": 39,
   "metadata": {},
   "outputs": [
    {
     "name": "stdout",
     "output_type": "stream",
     "text": [
      "{'ccp_alpha': 0.0, 'criterion': 'friedman_mse', 'init': None, 'learning_rate': 0.0005, 'loss': 'log_loss', 'max_depth': 11, 'max_features': 'log2', 'max_leaf_nodes': None, 'min_impurity_decrease': 0.3, 'min_samples_leaf': 1, 'min_samples_split': 9, 'min_weight_fraction_leaf': 0.0, 'n_estimators': 270, 'n_iter_no_change': None, 'random_state': 1308, 'subsample': 0.5, 'tol': 0.0001, 'validation_fraction': 0.1, 'verbose': 0, 'warm_start': False}\n"
     ]
    }
   ],
   "source": [
    "print(tuned_clf.get_params())"
   ]
  },
  {
   "cell_type": "markdown",
   "metadata": {},
   "source": [
    "## Analyze the model"
   ]
  },
  {
   "cell_type": "markdown",
   "metadata": {},
   "source": [
    "```python\n",
    "plot_model(\n",
    "    estimator,\n",
    "    plot: str = 'auc',\n",
    "    scale: float = 1,\n",
    "    save: bool = False,\n",
    "    fold: Optional[Union[int, Any]] = None,\n",
    "    fit_kwargs: Optional[dict] = None,\n",
    "    groups: Optional[Union[str, Any]] = None,\n",
    "    use_train_data: bool = False,\n",
    "    verbose: bool = True,\n",
    "    display_format: Optional[str] = None\n",
    ")\n",
    "```"
   ]
  },
  {
   "cell_type": "markdown",
   "metadata": {},
   "source": [
    "Opciones del parámetro `plot`:\n",
    "\n",
    "`auc` - Area Under the Curve\n",
    "\n",
    "`threshold` - Discrimination Threshold\n",
    "\n",
    "`pr` - Precision Recall Curve\n",
    "\n",
    "`confusion_matrix` - Confusion Matrix\n",
    "\n",
    "`error` - Class Prediction Error\n",
    "\n",
    "`class_report` - Classification Report\n",
    "\n",
    "`boundary` - Decision Boundary\n",
    "\n",
    "`rfe` - Recursive Feature Selection\n",
    "\n",
    "`learning` - Learning Curve\n",
    "\n",
    "`manifold` - Manifold Learning\n",
    "\n",
    "`calibration` - Calibration Curve\n",
    "\n",
    "`vc` - Validation Curve\n",
    "\n",
    "`dimension` - Dimension Learning\n",
    "\n",
    "`feature` - Feature Importance\n",
    "\n",
    "`feature_all` - Feature Importance (All)\n",
    "\n",
    "`parameter` - Model Hyperparameter\n",
    "\n",
    "`lift` - Lift Curve\n",
    "\n",
    "`gain` - Gain Chart\n",
    "\n",
    "`tree` - Decision Tree\n",
    "\n",
    "`ks` - KS Statistic Plot\n"
   ]
  },
  {
   "cell_type": "code",
   "execution_count": 31,
   "metadata": {
    "colab": {},
    "colab_type": "code",
    "id": "R0V597844EkX",
    "tags": []
   },
   "outputs": [
    {
     "data": {
      "text/html": [],
      "text/plain": [
       "<IPython.core.display.HTML object>"
      ]
     },
     "metadata": {},
     "output_type": "display_data"
    },
    {
     "data": {
      "image/png": "[encoded data removed]",
      "text/plain": [
       "<Figure size 800x550 with 1 Axes>"
      ]
     },
     "metadata": {},
     "output_type": "display_data"
    }
   ],
   "source": [
    "plot_model(tuned_clf, plot = 'auc')"
   ]
  },
  {
   "cell_type": "code",
   "execution_count": 32,
   "metadata": {
    "tags": []
   },
   "outputs": [
    {
     "data": {
      "text/html": [],
      "text/plain": [
       "<IPython.core.display.HTML object>"
      ]
     },
     "metadata": {},
     "output_type": "display_data"
    },
    {
     "data": {
      "image/png": "[encoded data removed]",
      "text/plain": [
       "<Figure size 800x550 with 1 Axes>"
      ]
     },
     "metadata": {},
     "output_type": "display_data"
    }
   ],
   "source": [
    "plot_model(tuned_clf, plot = 'pr')"
   ]
  },
  {
   "cell_type": "code",
   "execution_count": 33,
   "metadata": {
    "collapsed": true,
    "jupyter": {
     "outputs_hidden": true
    },
    "tags": []
   },
   "outputs": [
    {
     "data": {
      "text/html": [],
      "text/plain": [
       "<IPython.core.display.HTML object>"
      ]
     },
     "metadata": {},
     "output_type": "display_data"
    },
    {
     "data": {
      "image/png": "[encoded data removed]",
      "text/plain": [
       "<Figure size 800x550 with 1 Axes>"
      ]
     },
     "metadata": {},
     "output_type": "display_data"
    }
   ],
   "source": [
    "plot_model(tuned_clf, plot = 'threshold')"
   ]
  },
  {
   "cell_type": "markdown",
   "metadata": {},
   "source": [
    "## 6. Save your model"
   ]
  },
  {
   "cell_type": "code",
   "execution_count": 34,
   "metadata": {},
   "outputs": [],
   "source": [
    "# training model with all the data\n",
    "model = finalize_model(tuned_clf)"
   ]
  },
  {
   "cell_type": "code",
   "execution_count": 35,
   "metadata": {},
   "outputs": [
    {
     "name": "stdout",
     "output_type": "stream",
     "text": [
      "Transformation Pipeline and Model Successfully Saved\n"
     ]
    }
   ],
   "source": [
    "# saving the whole PyCaret pipeline\n",
    "pipeline = save_model(model, 'my_credit_model')"
   ]
  },
  {
   "cell_type": "markdown",
   "metadata": {},
   "source": [
    "## 7. Use your model in production"
   ]
  },
  {
   "cell_type": "code",
   "execution_count": 36,
   "metadata": {},
   "outputs": [
    {
     "name": "stdout",
     "output_type": "stream",
     "text": [
      "Transformation Pipeline and Model Successfully Loaded\n"
     ]
    }
   ],
   "source": [
    "# loading saved pipeline\n",
    "pipeline = load_model(model_name=\"my_credit_model\")"
   ]
  },
  {
   "cell_type": "code",
   "execution_count": 37,
   "metadata": {},
   "outputs": [
    {
     "data": {
      "text/html": [
       "<style type=\"text/css\">\n",
       "</style>\n",
       "<table id=\"T_e7d3d\">\n",
       "  <thead>\n",
       "    <tr>\n",
       "      <th class=\"blank level0\" >&nbsp;</th>\n",
       "      <th id=\"T_e7d3d_level0_col0\" class=\"col_heading level0 col0\" >Model</th>\n",
       "      <th id=\"T_e7d3d_level0_col1\" class=\"col_heading level0 col1\" >Accuracy</th>\n",
       "      <th id=\"T_e7d3d_level0_col2\" class=\"col_heading level0 col2\" >AUC</th>\n",
       "      <th id=\"T_e7d3d_level0_col3\" class=\"col_heading level0 col3\" >Recall</th>\n",
       "      <th id=\"T_e7d3d_level0_col4\" class=\"col_heading level0 col4\" >Prec.</th>\n",
       "      <th id=\"T_e7d3d_level0_col5\" class=\"col_heading level0 col5\" >F1</th>\n",
       "      <th id=\"T_e7d3d_level0_col6\" class=\"col_heading level0 col6\" >Kappa</th>\n",
       "      <th id=\"T_e7d3d_level0_col7\" class=\"col_heading level0 col7\" >MCC</th>\n",
       "    </tr>\n",
       "  </thead>\n",
       "  <tbody>\n",
       "    <tr>\n",
       "      <th id=\"T_e7d3d_level0_row0\" class=\"row_heading level0 row0\" >0</th>\n",
       "      <td id=\"T_e7d3d_row0_col0\" class=\"data row0 col0\" >Gradient Boosting Classifier</td>\n",
       "      <td id=\"T_e7d3d_row0_col1\" class=\"data row0 col1\" >0.8008</td>\n",
       "      <td id=\"T_e7d3d_row0_col2\" class=\"data row0 col2\" >0.7903</td>\n",
       "      <td id=\"T_e7d3d_row0_col3\" class=\"data row0 col3\" >0.5361</td>\n",
       "      <td id=\"T_e7d3d_row0_col4\" class=\"data row0 col4\" >0.5465</td>\n",
       "      <td id=\"T_e7d3d_row0_col5\" class=\"data row0 col5\" >0.5413</td>\n",
       "      <td id=\"T_e7d3d_row0_col6\" class=\"data row0 col6\" >0.4141</td>\n",
       "      <td id=\"T_e7d3d_row0_col7\" class=\"data row0 col7\" >0.4141</td>\n",
       "    </tr>\n",
       "  </tbody>\n",
       "</table>\n"
      ],
      "text/plain": [
       "<pandas.io.formats.style.Styler at 0x242bfe6d2a0>"
      ]
     },
     "metadata": {},
     "output_type": "display_data"
    }
   ],
   "source": [
    "# use model to predict\n",
    "prediction = predict_model(pipeline, data_unseen)"
   ]
  },
  {
   "cell_type": "code",
   "execution_count": 38,
   "metadata": {
    "tags": []
   },
   "outputs": [
    {
     "data": {
      "text/html": [
       "<div>\n",
       "<style scoped>\n",
       "    .dataframe tbody tr th:only-of-type {\n",
       "        vertical-align: middle;\n",
       "    }\n",
       "\n",
       "    .dataframe tbody tr th {\n",
       "        vertical-align: top;\n",
       "    }\n",
       "\n",
       "    .dataframe thead th {\n",
       "        text-align: right;\n",
       "    }\n",
       "</style>\n",
       "<table border=\"1\" class=\"dataframe\">\n",
       "  <thead>\n",
       "    <tr style=\"text-align: right;\">\n",
       "      <th></th>\n",
       "      <th>LIMIT_BAL</th>\n",
       "      <th>SEX</th>\n",
       "      <th>EDUCATION</th>\n",
       "      <th>MARRIAGE</th>\n",
       "      <th>AGE</th>\n",
       "      <th>PAY_1</th>\n",
       "      <th>PAY_2</th>\n",
       "      <th>PAY_3</th>\n",
       "      <th>PAY_4</th>\n",
       "      <th>PAY_5</th>\n",
       "      <th>...</th>\n",
       "      <th>BILL_AMT6</th>\n",
       "      <th>PAY_AMT1</th>\n",
       "      <th>PAY_AMT2</th>\n",
       "      <th>PAY_AMT3</th>\n",
       "      <th>PAY_AMT4</th>\n",
       "      <th>PAY_AMT5</th>\n",
       "      <th>PAY_AMT6</th>\n",
       "      <th>default</th>\n",
       "      <th>prediction_label</th>\n",
       "      <th>prediction_score</th>\n",
       "    </tr>\n",
       "  </thead>\n",
       "  <tbody>\n",
       "    <tr>\n",
       "      <th>0</th>\n",
       "      <td>100000</td>\n",
       "      <td>2</td>\n",
       "      <td>2</td>\n",
       "      <td>2</td>\n",
       "      <td>23</td>\n",
       "      <td>0</td>\n",
       "      <td>-1</td>\n",
       "      <td>-1</td>\n",
       "      <td>0</td>\n",
       "      <td>0</td>\n",
       "      <td>...</td>\n",
       "      <td>567.0</td>\n",
       "      <td>380.0</td>\n",
       "      <td>601.0</td>\n",
       "      <td>0.0</td>\n",
       "      <td>581.0</td>\n",
       "      <td>1687.0</td>\n",
       "      <td>1542.0</td>\n",
       "      <td>0</td>\n",
       "      <td>0</td>\n",
       "      <td>0.5182</td>\n",
       "    </tr>\n",
       "    <tr>\n",
       "      <th>1</th>\n",
       "      <td>380000</td>\n",
       "      <td>1</td>\n",
       "      <td>2</td>\n",
       "      <td>2</td>\n",
       "      <td>32</td>\n",
       "      <td>-1</td>\n",
       "      <td>-1</td>\n",
       "      <td>-1</td>\n",
       "      <td>-1</td>\n",
       "      <td>-1</td>\n",
       "      <td>...</td>\n",
       "      <td>11873.0</td>\n",
       "      <td>21540.0</td>\n",
       "      <td>15138.0</td>\n",
       "      <td>24677.0</td>\n",
       "      <td>11851.0</td>\n",
       "      <td>11875.0</td>\n",
       "      <td>8251.0</td>\n",
       "      <td>0</td>\n",
       "      <td>0</td>\n",
       "      <td>0.5619</td>\n",
       "    </tr>\n",
       "    <tr>\n",
       "      <th>2</th>\n",
       "      <td>200000</td>\n",
       "      <td>2</td>\n",
       "      <td>2</td>\n",
       "      <td>1</td>\n",
       "      <td>32</td>\n",
       "      <td>-1</td>\n",
       "      <td>-1</td>\n",
       "      <td>-1</td>\n",
       "      <td>-1</td>\n",
       "      <td>2</td>\n",
       "      <td>...</td>\n",
       "      <td>3151.0</td>\n",
       "      <td>5818.0</td>\n",
       "      <td>15.0</td>\n",
       "      <td>9102.0</td>\n",
       "      <td>17.0</td>\n",
       "      <td>3165.0</td>\n",
       "      <td>1395.0</td>\n",
       "      <td>0</td>\n",
       "      <td>0</td>\n",
       "      <td>0.5306</td>\n",
       "    </tr>\n",
       "    <tr>\n",
       "      <th>3</th>\n",
       "      <td>200000</td>\n",
       "      <td>1</td>\n",
       "      <td>1</td>\n",
       "      <td>1</td>\n",
       "      <td>53</td>\n",
       "      <td>2</td>\n",
       "      <td>2</td>\n",
       "      <td>2</td>\n",
       "      <td>2</td>\n",
       "      <td>2</td>\n",
       "      <td>...</td>\n",
       "      <td>149531.0</td>\n",
       "      <td>6300.0</td>\n",
       "      <td>5500.0</td>\n",
       "      <td>5500.0</td>\n",
       "      <td>5500.0</td>\n",
       "      <td>5000.0</td>\n",
       "      <td>5000.0</td>\n",
       "      <td>1</td>\n",
       "      <td>1</td>\n",
       "      <td>0.5419</td>\n",
       "    </tr>\n",
       "    <tr>\n",
       "      <th>4</th>\n",
       "      <td>240000</td>\n",
       "      <td>1</td>\n",
       "      <td>1</td>\n",
       "      <td>2</td>\n",
       "      <td>41</td>\n",
       "      <td>1</td>\n",
       "      <td>-1</td>\n",
       "      <td>-1</td>\n",
       "      <td>0</td>\n",
       "      <td>0</td>\n",
       "      <td>...</td>\n",
       "      <td>1737.0</td>\n",
       "      <td>2622.0</td>\n",
       "      <td>3301.0</td>\n",
       "      <td>0.0</td>\n",
       "      <td>360.0</td>\n",
       "      <td>1737.0</td>\n",
       "      <td>924.0</td>\n",
       "      <td>0</td>\n",
       "      <td>0</td>\n",
       "      <td>0.5049</td>\n",
       "    </tr>\n",
       "    <tr>\n",
       "      <th>...</th>\n",
       "      <td>...</td>\n",
       "      <td>...</td>\n",
       "      <td>...</td>\n",
       "      <td>...</td>\n",
       "      <td>...</td>\n",
       "      <td>...</td>\n",
       "      <td>...</td>\n",
       "      <td>...</td>\n",
       "      <td>...</td>\n",
       "      <td>...</td>\n",
       "      <td>...</td>\n",
       "      <td>...</td>\n",
       "      <td>...</td>\n",
       "      <td>...</td>\n",
       "      <td>...</td>\n",
       "      <td>...</td>\n",
       "      <td>...</td>\n",
       "      <td>...</td>\n",
       "      <td>...</td>\n",
       "      <td>...</td>\n",
       "      <td>...</td>\n",
       "    </tr>\n",
       "    <tr>\n",
       "      <th>1195</th>\n",
       "      <td>50000</td>\n",
       "      <td>1</td>\n",
       "      <td>2</td>\n",
       "      <td>1</td>\n",
       "      <td>37</td>\n",
       "      <td>1</td>\n",
       "      <td>2</td>\n",
       "      <td>2</td>\n",
       "      <td>2</td>\n",
       "      <td>0</td>\n",
       "      <td>...</td>\n",
       "      <td>1324.0</td>\n",
       "      <td>0.0</td>\n",
       "      <td>3000.0</td>\n",
       "      <td>0.0</td>\n",
       "      <td>0.0</td>\n",
       "      <td>1000.0</td>\n",
       "      <td>1000.0</td>\n",
       "      <td>1</td>\n",
       "      <td>1</td>\n",
       "      <td>0.5145</td>\n",
       "    </tr>\n",
       "    <tr>\n",
       "      <th>1196</th>\n",
       "      <td>220000</td>\n",
       "      <td>1</td>\n",
       "      <td>2</td>\n",
       "      <td>1</td>\n",
       "      <td>41</td>\n",
       "      <td>0</td>\n",
       "      <td>0</td>\n",
       "      <td>-1</td>\n",
       "      <td>-1</td>\n",
       "      <td>-2</td>\n",
       "      <td>...</td>\n",
       "      <td>1824.0</td>\n",
       "      <td>8840.0</td>\n",
       "      <td>6643.0</td>\n",
       "      <td>5924.0</td>\n",
       "      <td>1759.0</td>\n",
       "      <td>1824.0</td>\n",
       "      <td>7022.0</td>\n",
       "      <td>0</td>\n",
       "      <td>0</td>\n",
       "      <td>0.5449</td>\n",
       "    </tr>\n",
       "    <tr>\n",
       "      <th>1197</th>\n",
       "      <td>420000</td>\n",
       "      <td>1</td>\n",
       "      <td>1</td>\n",
       "      <td>2</td>\n",
       "      <td>34</td>\n",
       "      <td>0</td>\n",
       "      <td>0</td>\n",
       "      <td>0</td>\n",
       "      <td>0</td>\n",
       "      <td>0</td>\n",
       "      <td>...</td>\n",
       "      <td>147954.0</td>\n",
       "      <td>7000.0</td>\n",
       "      <td>7000.0</td>\n",
       "      <td>5500.0</td>\n",
       "      <td>5500.0</td>\n",
       "      <td>5600.0</td>\n",
       "      <td>5000.0</td>\n",
       "      <td>0</td>\n",
       "      <td>0</td>\n",
       "      <td>0.5523</td>\n",
       "    </tr>\n",
       "    <tr>\n",
       "      <th>1198</th>\n",
       "      <td>90000</td>\n",
       "      <td>1</td>\n",
       "      <td>2</td>\n",
       "      <td>1</td>\n",
       "      <td>36</td>\n",
       "      <td>0</td>\n",
       "      <td>0</td>\n",
       "      <td>0</td>\n",
       "      <td>0</td>\n",
       "      <td>0</td>\n",
       "      <td>...</td>\n",
       "      <td>14329.0</td>\n",
       "      <td>1500.0</td>\n",
       "      <td>1500.0</td>\n",
       "      <td>1500.0</td>\n",
       "      <td>1200.0</td>\n",
       "      <td>2500.0</td>\n",
       "      <td>0.0</td>\n",
       "      <td>1</td>\n",
       "      <td>0</td>\n",
       "      <td>0.5211</td>\n",
       "    </tr>\n",
       "    <tr>\n",
       "      <th>1199</th>\n",
       "      <td>50000</td>\n",
       "      <td>1</td>\n",
       "      <td>2</td>\n",
       "      <td>1</td>\n",
       "      <td>46</td>\n",
       "      <td>0</td>\n",
       "      <td>0</td>\n",
       "      <td>0</td>\n",
       "      <td>0</td>\n",
       "      <td>0</td>\n",
       "      <td>...</td>\n",
       "      <td>15313.0</td>\n",
       "      <td>2078.0</td>\n",
       "      <td>1800.0</td>\n",
       "      <td>1430.0</td>\n",
       "      <td>1000.0</td>\n",
       "      <td>1000.0</td>\n",
       "      <td>1000.0</td>\n",
       "      <td>1</td>\n",
       "      <td>0</td>\n",
       "      <td>0.5322</td>\n",
       "    </tr>\n",
       "  </tbody>\n",
       "</table>\n",
       "<p>1200 rows × 26 columns</p>\n",
       "</div>"
      ],
      "text/plain": [
       "      LIMIT_BAL  SEX  EDUCATION  MARRIAGE  AGE  PAY_1  PAY_2  PAY_3  PAY_4  \\\n",
       "0        100000    2          2         2   23      0     -1     -1      0   \n",
       "1        380000    1          2         2   32     -1     -1     -1     -1   \n",
       "2        200000    2          2         1   32     -1     -1     -1     -1   \n",
       "3        200000    1          1         1   53      2      2      2      2   \n",
       "4        240000    1          1         2   41      1     -1     -1      0   \n",
       "...         ...  ...        ...       ...  ...    ...    ...    ...    ...   \n",
       "1195      50000    1          2         1   37      1      2      2      2   \n",
       "1196     220000    1          2         1   41      0      0     -1     -1   \n",
       "1197     420000    1          1         2   34      0      0      0      0   \n",
       "1198      90000    1          2         1   36      0      0      0      0   \n",
       "1199      50000    1          2         1   46      0      0      0      0   \n",
       "\n",
       "      PAY_5  ...  BILL_AMT6  PAY_AMT1  PAY_AMT2  PAY_AMT3  PAY_AMT4  PAY_AMT5  \\\n",
       "0         0  ...      567.0     380.0     601.0       0.0     581.0    1687.0   \n",
       "1        -1  ...    11873.0   21540.0   15138.0   24677.0   11851.0   11875.0   \n",
       "2         2  ...     3151.0    5818.0      15.0    9102.0      17.0    3165.0   \n",
       "3         2  ...   149531.0    6300.0    5500.0    5500.0    5500.0    5000.0   \n",
       "4         0  ...     1737.0    2622.0    3301.0       0.0     360.0    1737.0   \n",
       "...     ...  ...        ...       ...       ...       ...       ...       ...   \n",
       "1195      0  ...     1324.0       0.0    3000.0       0.0       0.0    1000.0   \n",
       "1196     -2  ...     1824.0    8840.0    6643.0    5924.0    1759.0    1824.0   \n",
       "1197      0  ...   147954.0    7000.0    7000.0    5500.0    5500.0    5600.0   \n",
       "1198      0  ...    14329.0    1500.0    1500.0    1500.0    1200.0    2500.0   \n",
       "1199      0  ...    15313.0    2078.0    1800.0    1430.0    1000.0    1000.0   \n",
       "\n",
       "      PAY_AMT6  default  prediction_label  prediction_score  \n",
       "0       1542.0        0                 0            0.5182  \n",
       "1       8251.0        0                 0            0.5619  \n",
       "2       1395.0        0                 0            0.5306  \n",
       "3       5000.0        1                 1            0.5419  \n",
       "4        924.0        0                 0            0.5049  \n",
       "...        ...      ...               ...               ...  \n",
       "1195    1000.0        1                 1            0.5145  \n",
       "1196    7022.0        0                 0            0.5449  \n",
       "1197    5000.0        0                 0            0.5523  \n",
       "1198       0.0        1                 0            0.5211  \n",
       "1199    1000.0        1                 0            0.5322  \n",
       "\n",
       "[1200 rows x 26 columns]"
      ]
     },
     "execution_count": 38,
     "metadata": {},
     "output_type": "execute_result"
    }
   ],
   "source": [
    "prediction"
   ]
  },
  {
   "cell_type": "code",
   "execution_count": null,
   "metadata": {},
   "outputs": [],
   "source": []
  }
 ],
 "metadata": {
  "colab": {
   "collapsed_sections": [
    "2B2swEt84Ee1",
    "fGHO07ET4EfB",
    "GlddJmh74Eh4",
    "B4o2brP84Eih",
    "QxHq04mC4EjB",
    "ft5E6kE24EjJ",
    "7EBE1vve4EjZ",
    "n_Hp176K4Ejw",
    "eXWxVxQb4Ek5",
    "7e_JvjjK4ElM",
    "oz-x8Ms84Elr",
    "pDrdubjb4Emm",
    "HZw7sl394EoG",
    "bhtJHidg4EpR",
    "dh4lFCYB4ErJ",
    "oS3ag9Qs4Ero",
    "HbU3cy1H4Er5",
    "WJd6Vk7b4EsY",
    "ZwoqVfen4Esm",
    "uWKoxcgK4EtG"
   ],
   "name": "Binary Classification Tutorial (CLF102) - Level Intermediate (ACN_EDITS 2).ipynb",
   "provenance": []
  },
  "kernelspec": {
   "display_name": "uni_env",
   "language": "python",
   "name": "python3"
  },
  "language_info": {
   "codemirror_mode": {
    "name": "ipython",
    "version": 3
   },
   "file_extension": ".py",
   "mimetype": "text/x-python",
   "name": "python",
   "nbconvert_exporter": "python",
   "pygments_lexer": "ipython3",
   "version": "3.10.10"
  }
 },
 "nbformat": 4,
 "nbformat_minor": 4
}

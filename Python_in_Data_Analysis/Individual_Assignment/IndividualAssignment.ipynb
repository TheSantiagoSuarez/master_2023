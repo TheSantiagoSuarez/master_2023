{
 "cells": [
  {
   "cell_type": "markdown",
   "id": "b0f0edf6-ef97-4b60-bb2b-542a6d869c0f",
   "metadata": {},
   "source": [
    "# **Individual Assingment**: Default Credit Cards Clients"
   ]
  },
  {
   "cell_type": "markdown",
   "id": "6c69f0e3-e89e-4e1b-ae19-98b58bbdd494",
   "metadata": {},
   "source": [
    "A bank in you region want to build a model to predict credit card defaulters more accurately in order minimize money loss. For this task we have a set of data on default payments and demographic data to help us do our task. Data is comprised in the following CSV files:"
   ]
  },
  {
   "cell_type": "markdown",
   "id": "1956996c-b1c6-4eae-a697-5471a0133a17",
   "metadata": {},
   "source": [
    "\n",
    "**TRAINING**\n",
    "\n",
    "**`train_customers.csv`**\n",
    " - `ID`: ID of each client\n",
    " - `LIMIT_BAL`: Amount of given credit in NT dollars (includes individual and family/supplementary credit\n",
    " - `SEX`: Gender (1=male, 2=female)\n",
    " - `EDUCATION`: (1=graduate school, 2=university, 3=high school, 4=others, 5=unknown, 6=unknown)\n",
    " - `MARRIAGE`: Marital status (1=married, 2=single, 3=others)\n",
    " - `AGE`: Age in years\n",
    " \n",
    "**`train_series.csv`**\n",
    " - `ID`: ID of each client\n",
    " - `MONTH`: The month to wich data is refering\n",
    " - `PAY`: Repayment status in the corresponding month (-1=pay duly, 1=payment delay for one month, 2=payment delay for two months, … 8=payment delay for eight months, 9=payment delay for nine months and above)\n",
    " - `BILL_AMT`: Amount of bill statement in the corresponding month (NT dollar)\n",
    " - `PAY_AMT`: Amount of previous payment in the corresponding month (NT dollar)\n",
    " \n",
    "**`train_target.csv`**\n",
    " - `DEFAULT_JULY`: Default payment in July (1=yes, 0=no)\n",
    " \n",
    " \n",
    "**TEST** (For PART 3)\n",
    " - **`test_data.csv`**\n",
    " \n",
    "**SUBMISSION** (For PART 3)\n",
    " - **`submission_features.csv`**\n",
    " \n",
    "**BACKUP**\n",
    " - **`train_data.csv`**"
   ]
  },
  {
   "cell_type": "markdown",
   "id": "2fb6107f-37c2-4740-9bb1-966909b113f1",
   "metadata": {},
   "source": [
    "Load all data and answer the following questions"
   ]
  },
  {
   "cell_type": "markdown",
   "id": "d8c0fb2b-6f5c-47a9-ae11-e007e6f81ac1",
   "metadata": {},
   "source": [
    "## **A. DATA ENGINEERING (3 points)**"
   ]
  },
  {
   "cell_type": "markdown",
   "id": "a27d2e93-7ff5-4e98-bb19-48bb2bae34ec",
   "metadata": {},
   "source": [
    "### **Question 1**\n",
    "\n",
    "(2 points)"
   ]
  },
  {
   "cell_type": "markdown",
   "id": "f4eb1756-ee53-4b4a-ad19-08fc9e144340",
   "metadata": {},
   "source": [
    "### **Question 2**\n",
    "\n",
    "(0.5 points)"
   ]
  },
  {
   "cell_type": "markdown",
   "id": "e11fa323-565d-4467-a10a-82c203adc269",
   "metadata": {},
   "source": [
    "### **Question 3**\n",
    "\n",
    "(0.5 points)"
   ]
  },
  {
   "cell_type": "markdown",
   "id": "4ff8bc6e-1905-442d-9a8f-d231dc142cb5",
   "metadata": {},
   "source": [
    "## **B. EXPLORATORY DATA ANALYSIS (2 points)**"
   ]
  },
  {
   "cell_type": "markdown",
   "id": "1cfe5b3f-cfad-4905-84ff-3dd170783b9d",
   "metadata": {},
   "source": [
    "### **Question 1**\n",
    "\n",
    "(0.5 points)"
   ]
  },
  {
   "cell_type": "markdown",
   "id": "79ebea6f-2076-4534-a6db-f8b17a2b98c8",
   "metadata": {},
   "source": [
    "### **Question 2**\n",
    "\n",
    "(0.5 points)"
   ]
  },
  {
   "cell_type": "markdown",
   "id": "5daf11bb-fa39-4541-9242-10c87c45a291",
   "metadata": {},
   "source": [
    "### **Question 3**\n",
    "\n",
    "(1 point)"
   ]
  },
  {
   "cell_type": "markdown",
   "id": "a790e481-a06b-4a03-9c6d-d82f4378cc63",
   "metadata": {},
   "source": [
    "## **C. MACHINE LEARNING (5 points)**"
   ]
  },
  {
   "cell_type": "markdown",
   "id": "0813306b-752b-4dec-8900-65a618c3dad7",
   "metadata": {},
   "source": [
    "### **Question 1**\n",
    "\n",
    "(1.5 points)"
   ]
  },
  {
   "cell_type": "markdown",
   "id": "fc9a3cee-7e51-4d9f-85bc-08e1156bf701",
   "metadata": {},
   "source": [
    "### **Question 2**\n",
    "\n",
    "(1 points)"
   ]
  },
  {
   "cell_type": "markdown",
   "id": "7005ce2b-4a35-4905-8743-0b9ee42f9c77",
   "metadata": {},
   "source": [
    "### **Question 3**\n",
    "\n",
    "(2.5 points)"
   ]
  }
 ],
 "metadata": {
  "kernelspec": {
   "display_name": "DATASCIENCE (Python 3.8)",
   "language": "python",
   "name": "datascience"
  },
  "language_info": {
   "codemirror_mode": {
    "name": "ipython",
    "version": 3
   },
   "file_extension": ".py",
   "mimetype": "text/x-python",
   "name": "python",
   "nbconvert_exporter": "python",
   "pygments_lexer": "ipython3",
   "version": "3.8.13"
  }
 },
 "nbformat": 4,
 "nbformat_minor": 5
}

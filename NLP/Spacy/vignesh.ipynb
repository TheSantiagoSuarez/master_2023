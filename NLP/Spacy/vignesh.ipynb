{
 "cells": [
  {
   "cell_type": "code",
   "execution_count": 8,
   "metadata": {},
   "outputs": [
    {
     "ename": "ValueError",
     "evalue": "[E178] Each pattern should be a list of dicts, but got: {'POS': 'PROPN'}. Maybe you accidentally passed a single pattern to Matcher.add instead of a list of patterns? If you only want to add one pattern, make sure to wrap it in a list. For example: `matcher.add('PERSON', [pattern])`",
     "output_type": "error",
     "traceback": [
      "\u001b[1;31m---------------------------------------------------------------------------\u001b[0m",
      "\u001b[1;31mValueError\u001b[0m                                Traceback (most recent call last)",
      "Cell \u001b[1;32mIn[8], line 23\u001b[0m\n\u001b[0;32m     20\u001b[0m person_pattern \u001b[39m=\u001b[39m [{\u001b[39m'\u001b[39m\u001b[39mPOS\u001b[39m\u001b[39m'\u001b[39m: \u001b[39m'\u001b[39m\u001b[39mPROPN\u001b[39m\u001b[39m'\u001b[39m}, {\u001b[39m'\u001b[39m\u001b[39mPOS\u001b[39m\u001b[39m'\u001b[39m: \u001b[39m'\u001b[39m\u001b[39mPROPN\u001b[39m\u001b[39m'\u001b[39m}]  \u001b[39m# Matches two consecutive proper nouns\u001b[39;00m\n\u001b[0;32m     22\u001b[0m \u001b[39m# Add the patterns to the Matcher\u001b[39;00m\n\u001b[1;32m---> 23\u001b[0m matcher\u001b[39m.\u001b[39;49madd(\u001b[39m'\u001b[39;49m\u001b[39mPERSON\u001b[39;49m\u001b[39m'\u001b[39;49m, person_pattern)\n\u001b[0;32m     25\u001b[0m \u001b[39m# Find matches in the document\u001b[39;00m\n\u001b[0;32m     26\u001b[0m matches \u001b[39m=\u001b[39m matcher(doc)\n",
      "File \u001b[1;32m~\\AppData\\Local\\Packages\\PythonSoftwareFoundation.Python.3.10_qbz5n2kfra8p0\\LocalCache\\local-packages\\Python310\\site-packages\\spacy\\matcher\\matcher.pyx:127\u001b[0m, in \u001b[0;36mspacy.matcher.matcher.Matcher.add\u001b[1;34m()\u001b[0m\n",
      "\u001b[1;31mValueError\u001b[0m: [E178] Each pattern should be a list of dicts, but got: {'POS': 'PROPN'}. Maybe you accidentally passed a single pattern to Matcher.add instead of a list of patterns? If you only want to add one pattern, make sure to wrap it in a list. For example: `matcher.add('PERSON', [pattern])`"
     ]
    }
   ],
   "source": [
    "import spacy\n",
    "from spacy.matcher import Matcher\n",
    "\n",
    "#nltk.download('punkt')  # Download required NLTK resources\n",
    "\n",
    "# Initialize spaCy with the English model\n",
    "nlp = spacy.load('en_core_web_sm')\n",
    "\n",
    "# Read the text file\n",
    "with open('brennu-njals_saga_en.txt', 'r') as file:\n",
    "    text = file.read()\n",
    "\n",
    "# Process the text with spaCy\n",
    "doc = nlp(text)\n",
    "\n",
    "# Initialize the Matcher\n",
    "matcher = Matcher(nlp.vocab)\n",
    "\n",
    "# Define patterns for person entities\n",
    "person_pattern = [{'POS': 'PROPN'}, {'POS': 'PROPN'}]  # Matches two consecutive proper nouns\n",
    "\n",
    "# Add the patterns to the Matcher\n",
    "matcher.add('PERSON', person_pattern)\n",
    "\n",
    "# Find matches in the document\n",
    "matches = matcher(doc)\n",
    "\n",
    "# Initialize lists to store the extracted names and relationships\n",
    "names = []\n",
    "relationships = []\n",
    "\n",
    "# Iterate over the matches and extract the entities\n",
    "for match_id, start, end in matches:\n",
    "    if match_id == nlp.vocab.strings['PERSON']:\n",
    "        person_names = doc[start:end]\n",
    "        names.append(person_names.text)\n",
    "        relationship = ''  # Define the logic to extract relationships based on the context\n",
    "        relationships.append(relationship)\n",
    "\n",
    "# Print the extracted names and relationships\n",
    "for name, relationship in zip(names, relationships):\n",
    "    print(\"Name:\", name)\n",
    "    print(\"Relationship:\", relationship)\n",
    "    print()"
   ]
  }
 ],
 "metadata": {
  "kernelspec": {
   "display_name": "Python 3",
   "language": "python",
   "name": "python3"
  },
  "language_info": {
   "codemirror_mode": {
    "name": "ipython",
    "version": 3
   },
   "file_extension": ".py",
   "mimetype": "text/x-python",
   "name": "python",
   "nbconvert_exporter": "python",
   "pygments_lexer": "ipython3",
   "version": "3.10.11"
  },
  "orig_nbformat": 4
 },
 "nbformat": 4,
 "nbformat_minor": 2
}

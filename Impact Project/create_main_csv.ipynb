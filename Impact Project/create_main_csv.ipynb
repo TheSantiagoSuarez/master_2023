{
 "cells": [
  {
   "cell_type": "code",
   "execution_count": 1,
   "metadata": {},
   "outputs": [],
   "source": [
    "import pandas as pd\n",
    "import glob\n",
    "import zipfile\n",
    "import os"
   ]
  },
  {
   "attachments": {},
   "cell_type": "markdown",
   "metadata": {},
   "source": [
    "### Merging all final P0_ files"
   ]
  },
  {
   "cell_type": "code",
   "execution_count": null,
   "metadata": {},
   "outputs": [],
   "source": [
    "global_csv = filled_dfs[0]\n",
    "for i in range(1,len(filled_dfs)):\n",
    "    global_csv = pd.merge(global_csv,filled_dfs[i],how=\"outer\",on=[\"TraceabilityCode\"],suffixes=(\"\",f\"_{i}\"))"
   ]
  },
  {
   "cell_type": "code",
   "execution_count": null,
   "metadata": {},
   "outputs": [],
   "source": [
    "global_csv = pd.merge(global_csv,defects[[\"TraceabilityCode\",\"Defect\"]],how=\"outer\",on=[\"TraceabilityCode\"])"
   ]
  },
  {
   "cell_type": "code",
   "execution_count": null,
   "metadata": {},
   "outputs": [],
   "source": [
    "global_csv.to_csv(\"\")"
   ]
  },
  {
   "cell_type": "code",
   "execution_count": null,
   "metadata": {},
   "outputs": [],
   "source": [
    "def compress_csv_to_zip(csv_file_path, zip_file_path):\n",
    "    with zipfile.ZipFile(zip_file_path, 'w', compression=zipfile.ZIP_DEFLATED) as zipf:\n",
    "        zipf.write(csv_file_path, arcname='data.csv')\n",
    "    \n",
    "    os.remove(csv_file_path)\n",
    "\n",
    "# Specify the paths to your CSV and the desired output ZIP file\n",
    "csv_file_path = 'merged_csv/global.csv'\n",
    "zip_file_path = 'merged_csv/global.zip'\n",
    "\n",
    "# Call the function to compress the CSV into a ZIP archive\n",
    "compress_csv_to_zip(csv_file_path, zip_file_path)"
   ]
  }
 ],
 "metadata": {
  "kernelspec": {
   "display_name": "uni_env",
   "language": "python",
   "name": "python3"
  },
  "language_info": {
   "codemirror_mode": {
    "name": "ipython",
    "version": 3
   },
   "file_extension": ".py",
   "mimetype": "text/x-python",
   "name": "python",
   "nbconvert_exporter": "python",
   "pygments_lexer": "ipython3",
   "version": "3.10.11"
  },
  "orig_nbformat": 4
 },
 "nbformat": 4,
 "nbformat_minor": 2
}
